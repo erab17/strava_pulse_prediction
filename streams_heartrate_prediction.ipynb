{
 "cells": [
  {
   "cell_type": "code",
   "execution_count": 4,
   "metadata": {},
   "outputs": [],
   "source": [
    "import pandas as pd \n",
    "import numpy as np\n",
    "import matplotlib.pyplot as plt\n",
    "import seaborn as sns\n",
    "import datetime\n",
    "import os\n",
    "import sys\n",
    "import sqlite3  \n",
    "\n",
    "# show all columns in pandas\n",
    "pd.set_option('display.max_columns', None)\n"
   ]
  },
  {
   "cell_type": "code",
   "execution_count": 2,
   "metadata": {},
   "outputs": [],
   "source": [
    "# use sqlite3 to connect to the database strava.db\n",
    "conn = sqlite3.connect('strava.db')\n",
    "c = conn.cursor()\n",
    "# use pandas to read the table 'activities' from the database\n",
    "df = pd.read_sql_query(\"SELECT * FROM activities\", conn)\n",
    "\n",
    "# use pandas to read activity_details from the database\n",
    "df_hr = pd.read_sql_query(\"SELECT * FROM activity_details\", conn)\n",
    "\n",
    "# close the connection to the database\n",
    "conn.close()\n"
   ]
  },
  {
   "cell_type": "code",
   "execution_count": 11,
   "metadata": {},
   "outputs": [
    {
     "data": {
      "text/plain": [
       "Ride              644\n",
       "Run               392\n",
       "VirtualRide       139\n",
       "Hike               20\n",
       "Workout            12\n",
       "IceSkate            8\n",
       "EBikeRide           6\n",
       "Walk                6\n",
       "NordicSki           2\n",
       "AlpineSki           1\n",
       "WeightTraining      1\n",
       "Name: type, dtype: int64"
      ]
     },
     "execution_count": 11,
     "metadata": {},
     "output_type": "execute_result"
    }
   ],
   "source": [
    "df.type.value_counts()"
   ]
  },
  {
   "cell_type": "code",
   "execution_count": 24,
   "metadata": {},
   "outputs": [
    {
     "name": "stdout",
     "output_type": "stream",
     "text": [
      "['2022-05-10'] ['Wahoo SYSTM: Nine Hammers']\n"
     ]
    }
   ],
   "source": [
    "cond = df.activity_id == 7119038757\n",
    "#cond = df.type == \"VirtualRide\"\n",
    "print(df.loc[cond, \"date\"].values, df.loc[cond, \"name\"].values)"
   ]
  },
  {
   "cell_type": "code",
   "execution_count": 85,
   "metadata": {},
   "outputs": [],
   "source": [
    "cond = df_hr.activity_id == 7119038757\n",
    "df_test = df_hr[cond].copy()"
   ]
  },
  {
   "cell_type": "code",
   "execution_count": 88,
   "metadata": {},
   "outputs": [],
   "source": [
    "df_test.dropna(subset=[\"watts\"], inplace=True)"
   ]
  },
  {
   "cell_type": "code",
   "execution_count": 89,
   "metadata": {},
   "outputs": [
    {
     "data": {
      "text/html": [
       "<div>\n",
       "<style scoped>\n",
       "    .dataframe tbody tr th:only-of-type {\n",
       "        vertical-align: middle;\n",
       "    }\n",
       "\n",
       "    .dataframe tbody tr th {\n",
       "        vertical-align: top;\n",
       "    }\n",
       "\n",
       "    .dataframe thead th {\n",
       "        text-align: right;\n",
       "    }\n",
       "</style>\n",
       "<table border=\"1\" class=\"dataframe\">\n",
       "  <thead>\n",
       "    <tr style=\"text-align: right;\">\n",
       "      <th></th>\n",
       "      <th>activity_id</th>\n",
       "      <th>time</th>\n",
       "      <th>watts</th>\n",
       "      <th>heartrate</th>\n",
       "      <th>distance</th>\n",
       "      <th>velocity_smooth</th>\n",
       "      <th>altitude</th>\n",
       "      <th>cadence</th>\n",
       "    </tr>\n",
       "  </thead>\n",
       "  <tbody>\n",
       "    <tr>\n",
       "      <th>157649</th>\n",
       "      <td>7119038757</td>\n",
       "      <td>1</td>\n",
       "      <td>19.0</td>\n",
       "      <td>97.0</td>\n",
       "      <td>0.9</td>\n",
       "      <td>0.870</td>\n",
       "      <td>NaN</td>\n",
       "      <td>0.0</td>\n",
       "    </tr>\n",
       "    <tr>\n",
       "      <th>157650</th>\n",
       "      <td>7119038757</td>\n",
       "      <td>2</td>\n",
       "      <td>36.0</td>\n",
       "      <td>97.0</td>\n",
       "      <td>1.9</td>\n",
       "      <td>0.960</td>\n",
       "      <td>NaN</td>\n",
       "      <td>1.0</td>\n",
       "    </tr>\n",
       "    <tr>\n",
       "      <th>157651</th>\n",
       "      <td>7119038757</td>\n",
       "      <td>3</td>\n",
       "      <td>59.0</td>\n",
       "      <td>97.0</td>\n",
       "      <td>3.7</td>\n",
       "      <td>1.220</td>\n",
       "      <td>NaN</td>\n",
       "      <td>1.0</td>\n",
       "    </tr>\n",
       "    <tr>\n",
       "      <th>157652</th>\n",
       "      <td>7119038757</td>\n",
       "      <td>4</td>\n",
       "      <td>99.0</td>\n",
       "      <td>98.0</td>\n",
       "      <td>5.7</td>\n",
       "      <td>1.420</td>\n",
       "      <td>NaN</td>\n",
       "      <td>29.0</td>\n",
       "    </tr>\n",
       "    <tr>\n",
       "      <th>157653</th>\n",
       "      <td>7119038757</td>\n",
       "      <td>5</td>\n",
       "      <td>127.0</td>\n",
       "      <td>99.0</td>\n",
       "      <td>8.4</td>\n",
       "      <td>1.682</td>\n",
       "      <td>NaN</td>\n",
       "      <td>48.0</td>\n",
       "    </tr>\n",
       "  </tbody>\n",
       "</table>\n",
       "</div>"
      ],
      "text/plain": [
       "        activity_id  time  watts  heartrate  distance  velocity_smooth  \\\n",
       "157649   7119038757     1   19.0       97.0       0.9            0.870   \n",
       "157650   7119038757     2   36.0       97.0       1.9            0.960   \n",
       "157651   7119038757     3   59.0       97.0       3.7            1.220   \n",
       "157652   7119038757     4   99.0       98.0       5.7            1.420   \n",
       "157653   7119038757     5  127.0       99.0       8.4            1.682   \n",
       "\n",
       "        altitude  cadence  \n",
       "157649       NaN      0.0  \n",
       "157650       NaN      1.0  \n",
       "157651       NaN      1.0  \n",
       "157652       NaN     29.0  \n",
       "157653       NaN     48.0  "
      ]
     },
     "execution_count": 89,
     "metadata": {},
     "output_type": "execute_result"
    }
   ],
   "source": [
    "df_test.head()"
   ]
  },
  {
   "cell_type": "code",
   "execution_count": 98,
   "metadata": {},
   "outputs": [
    {
     "data": {
      "text/plain": [
       "(3494, 698, 2795)"
      ]
     },
     "execution_count": 98,
     "metadata": {},
     "output_type": "execute_result"
    }
   ],
   "source": [
    "len(df_test), int(0.2*len(df_test)), int(0.8*len(df_test))"
   ]
  },
  {
   "cell_type": "code",
   "execution_count": 105,
   "metadata": {},
   "outputs": [],
   "source": [
    "window = 200\n",
    "x_data = []\n",
    "y_data = []\n",
    "\n",
    "for i in range(len(df_test)-200-1):\n",
    "    x_data.append(df_test.iloc[i:i+window][\"watts\"].values)\n",
    "    y_data.append(df_test.iloc[i+window+1][\"heartrate\"])"
   ]
  },
  {
   "cell_type": "code",
   "execution_count": 107,
   "metadata": {},
   "outputs": [
    {
     "name": "stdout",
     "output_type": "stream",
     "text": [
      "(3293, 200)\n",
      "(3293,)\n"
     ]
    }
   ],
   "source": [
    "x_data = np.array(x_data)\n",
    "print(x_data.shape)\n",
    "y_data = np.array(y_data)\n",
    "print(y_data.shape)"
   ]
  },
  {
   "cell_type": "code",
   "execution_count": 108,
   "metadata": {},
   "outputs": [],
   "source": [
    "x_train = x_data[:int(0.8*len(x_data))]\n",
    "y_train = y_data[:int(0.8*len(y_data))]\n",
    "x_test = x_data[int(0.8*len(x_data)):]\n",
    "y_test = y_data[int(0.8*len(y_data)):]"
   ]
  },
  {
   "cell_type": "code",
   "execution_count": 173,
   "metadata": {},
   "outputs": [
    {
     "data": {
      "text/plain": [
       "(2634, 200, 1)"
      ]
     },
     "execution_count": 173,
     "metadata": {},
     "output_type": "execute_result"
    }
   ],
   "source": [
    "# add dimension to x_train and x_test\n",
    "np.expand_dims(x_train, axis=2).shape"
   ]
  },
  {
   "cell_type": "code",
   "execution_count": 172,
   "metadata": {},
   "outputs": [
    {
     "data": {
      "text/plain": [
       "torch.Size([2634, 1])"
      ]
     },
     "execution_count": 172,
     "metadata": {},
     "output_type": "execute_result"
    }
   ],
   "source": [
    "torch.from_numpy(x_train).float().unsqueeze(2)\n",
    "torch.from_numpy(y_train).float().unsqueeze(1)"
   ]
  },
  {
   "cell_type": "code",
   "execution_count": 109,
   "metadata": {},
   "outputs": [],
   "source": [
    "# use pytorch dataloader to load the data into batches for training and testing \n",
    "train_data = torch.utils.data.TensorDataset(torch.from_numpy(x_train).float(), torch.from_numpy(y_train).float())\n",
    "train_loader = torch.utils.data.DataLoader(train_data, batch_size=64, shuffle=True)\n",
    "\n",
    "test_data = torch.utils.data.TensorDataset(torch.from_numpy(x_test).float(), torch.from_numpy(y_test).float())\n",
    "test_loader = torch.utils.data.DataLoader(test_data, batch_size=64, shuffle=True)\n"
   ]
  },
  {
   "cell_type": "code",
   "execution_count": 167,
   "metadata": {},
   "outputs": [
    {
     "name": "stderr",
     "output_type": "stream",
     "text": [
      "c:\\Users\\jerke\\Anaconda3\\envs\\strava\\lib\\site-packages\\torch\\nn\\modules\\loss.py:530: UserWarning: Using a target size (torch.Size([64])) that is different to the input size (torch.Size([200, 1])). This will likely lead to incorrect results due to broadcasting. Please ensure they have the same size.\n",
      "  return F.mse_loss(input, target, reduction=self.reduction)\n"
     ]
    },
    {
     "ename": "RuntimeError",
     "evalue": "Trying to backward through the graph a second time (or directly access saved tensors after they have already been freed). Saved intermediate values of the graph are freed when you call .backward() or autograd.grad(). Specify retain_graph=True if you need to backward through the graph a second time or if you need to access saved tensors after calling backward.",
     "output_type": "error",
     "traceback": [
      "\u001b[1;31m---------------------------------------------------------------------------\u001b[0m",
      "\u001b[1;31mRuntimeError\u001b[0m                              Traceback (most recent call last)",
      "Cell \u001b[1;32mIn [167], line 44\u001b[0m\n\u001b[0;32m     42\u001b[0m loss \u001b[39m=\u001b[39m criterion(y_pred, y)\n\u001b[0;32m     43\u001b[0m \u001b[39m# backward pass\u001b[39;00m\n\u001b[1;32m---> 44\u001b[0m loss\u001b[39m.\u001b[39;49mbackward()\n\u001b[0;32m     45\u001b[0m \u001b[39m# update the parameters\u001b[39;00m\n\u001b[0;32m     46\u001b[0m optimizer\u001b[39m.\u001b[39mstep()\n",
      "File \u001b[1;32mc:\\Users\\jerke\\Anaconda3\\envs\\strava\\lib\\site-packages\\torch\\_tensor.py:396\u001b[0m, in \u001b[0;36mTensor.backward\u001b[1;34m(self, gradient, retain_graph, create_graph, inputs)\u001b[0m\n\u001b[0;32m    387\u001b[0m \u001b[39mif\u001b[39;00m has_torch_function_unary(\u001b[39mself\u001b[39m):\n\u001b[0;32m    388\u001b[0m     \u001b[39mreturn\u001b[39;00m handle_torch_function(\n\u001b[0;32m    389\u001b[0m         Tensor\u001b[39m.\u001b[39mbackward,\n\u001b[0;32m    390\u001b[0m         (\u001b[39mself\u001b[39m,),\n\u001b[1;32m   (...)\u001b[0m\n\u001b[0;32m    394\u001b[0m         create_graph\u001b[39m=\u001b[39mcreate_graph,\n\u001b[0;32m    395\u001b[0m         inputs\u001b[39m=\u001b[39minputs)\n\u001b[1;32m--> 396\u001b[0m torch\u001b[39m.\u001b[39;49mautograd\u001b[39m.\u001b[39;49mbackward(\u001b[39mself\u001b[39;49m, gradient, retain_graph, create_graph, inputs\u001b[39m=\u001b[39;49minputs)\n",
      "File \u001b[1;32mc:\\Users\\jerke\\Anaconda3\\envs\\strava\\lib\\site-packages\\torch\\autograd\\__init__.py:173\u001b[0m, in \u001b[0;36mbackward\u001b[1;34m(tensors, grad_tensors, retain_graph, create_graph, grad_variables, inputs)\u001b[0m\n\u001b[0;32m    168\u001b[0m     retain_graph \u001b[39m=\u001b[39m create_graph\n\u001b[0;32m    170\u001b[0m \u001b[39m# The reason we repeat same the comment below is that\u001b[39;00m\n\u001b[0;32m    171\u001b[0m \u001b[39m# some Python versions print out the first line of a multi-line function\u001b[39;00m\n\u001b[0;32m    172\u001b[0m \u001b[39m# calls in the traceback and some print out the last line\u001b[39;00m\n\u001b[1;32m--> 173\u001b[0m Variable\u001b[39m.\u001b[39;49m_execution_engine\u001b[39m.\u001b[39;49mrun_backward(  \u001b[39m# Calls into the C++ engine to run the backward pass\u001b[39;49;00m\n\u001b[0;32m    174\u001b[0m     tensors, grad_tensors_, retain_graph, create_graph, inputs,\n\u001b[0;32m    175\u001b[0m     allow_unreachable\u001b[39m=\u001b[39;49m\u001b[39mTrue\u001b[39;49;00m, accumulate_grad\u001b[39m=\u001b[39;49m\u001b[39mTrue\u001b[39;49;00m)\n",
      "\u001b[1;31mRuntimeError\u001b[0m: Trying to backward through the graph a second time (or directly access saved tensors after they have already been freed). Saved intermediate values of the graph are freed when you call .backward() or autograd.grad(). Specify retain_graph=True if you need to backward through the graph a second time or if you need to access saved tensors after calling backward."
     ]
    }
   ],
   "source": [
    "# define the model\n",
    "class Model(torch.nn.Module):\n",
    "    def __init__(self, input_size, hidden_size, output_size):\n",
    "        super(Model, self).__init__()\n",
    "        self.num_layers = 1\n",
    "        self.ws = 200\n",
    "        self.bs = 64\n",
    "        self.hidden_size = hidden_size\n",
    "        self.lstm = torch.nn.LSTM(input_size, hidden_size, self.num_layers, batch_first=True)\n",
    "        self.linear = torch.nn.Linear(hidden_size, output_size)\n",
    "        self.hidden = self.init_hidden()\n",
    "        \n",
    "    def init_hidden(self):\n",
    "        return (torch.zeros(self.num_layers, self.bs, self.hidden_size),\n",
    "                torch.zeros(self.num_layers, self.bs, self.hidden_size))\n",
    "    \n",
    "    def forward(self, input):\n",
    "        #lstm_out, self.hidden = self.lstm(input.view(len(input), 1, -1), self.hidden)\n",
    "        lstm_out, self.hidden = self.lstm(input, self.hidden)\n",
    "        y_pred = self.linear(lstm_out[-1])\n",
    "        return y_pred\n",
    "\n",
    "# define the model\n",
    "model = Model(1, 50, 1)\n",
    "# define the loss function\n",
    "criterion = torch.nn.MSELoss()\n",
    "# define the optimizer\n",
    "optimizer = torch.optim.Adam(model.parameters(), lr=0.001)\n",
    "\n",
    "# train the model\n",
    "epochs = 100\n",
    "for epoch in range(epochs):\n",
    "    for x, y in train_loader:\n",
    "        # reshape the data\n",
    "        #x = x.view(200, 1, 1)\n",
    "        x = x.unsqueeze(2)\n",
    "        # clear the gradients\n",
    "        optimizer.zero_grad()\n",
    "        # forward pass\n",
    "        y_pred = model(x)\n",
    "        # calculate the loss\n",
    "        loss = criterion(y_pred, y)\n",
    "        # backward pass\n",
    "        loss.backward()\n",
    "        # update the parameters\n",
    "        optimizer.step()\n",
    "    # print the loss\n",
    "    print('epoch: ', epoch,' loss: ', loss.item())"
   ]
  },
  {
   "cell_type": "code",
   "execution_count": 164,
   "metadata": {},
   "outputs": [],
   "source": [
    "seq_len = 200\n",
    "bs = 64\n",
    "num_layers = 1\n",
    "input_size=1\n",
    "hidden_size=50\n",
    "\n",
    "X = torch.rand(bs, seq_len, input_size)\n",
    "\n",
    "hidden = (torch.zeros(num_layers, bs, hidden_size), torch.zeros(num_layers, bs, hidden_size))\n",
    "\n",
    "lstm = torch.nn.LSTM(input_size, hidden_size, num_layers, batch_first=True)"
   ]
  },
  {
   "cell_type": "code",
   "execution_count": 165,
   "metadata": {},
   "outputs": [
    {
     "name": "stdout",
     "output_type": "stream",
     "text": [
      "torch.Size([64, 200, 1])\n",
      "torch.Size([1, 64, 50])\n",
      "torch.Size([64, 200, 50])\n",
      "torch.Size([1, 64, 50])\n"
     ]
    }
   ],
   "source": [
    "a, b = lstm(X, hidden)\n",
    "print(X.shape)\n",
    "print(hidden[0].shape)\n",
    "print(a.shape)\n",
    "print(b[0].shape)"
   ]
  },
  {
   "cell_type": "code",
   "execution_count": 140,
   "metadata": {},
   "outputs": [
    {
     "data": {
      "text/plain": [
       "dict_keys(['weight_ih_l0', 'weight_hh_l0', 'bias_ih_l0', 'bias_hh_l0', 'weight_ih_l1', 'weight_hh_l1', 'bias_ih_l1', 'bias_hh_l1', 'weight_ih_l2', 'weight_hh_l2', 'bias_ih_l2', 'bias_hh_l2', 'weight_ih_l3', 'weight_hh_l3', 'bias_ih_l3', 'bias_hh_l3', 'weight_ih_l4', 'weight_hh_l4', 'bias_ih_l4', 'bias_hh_l4', 'weight_ih_l5', 'weight_hh_l5', 'bias_ih_l5', 'bias_hh_l5', 'weight_ih_l6', 'weight_hh_l6', 'bias_ih_l6', 'bias_hh_l6', 'weight_ih_l7', 'weight_hh_l7', 'bias_ih_l7', 'bias_hh_l7', 'weight_ih_l8', 'weight_hh_l8', 'bias_ih_l8', 'bias_hh_l8', 'weight_ih_l9', 'weight_hh_l9', 'bias_ih_l9', 'bias_hh_l9', 'weight_ih_l10', 'weight_hh_l10', 'bias_ih_l10', 'bias_hh_l10', 'weight_ih_l11', 'weight_hh_l11', 'bias_ih_l11', 'bias_hh_l11', 'weight_ih_l12', 'weight_hh_l12', 'bias_ih_l12', 'bias_hh_l12', 'weight_ih_l13', 'weight_hh_l13', 'bias_ih_l13', 'bias_hh_l13', 'weight_ih_l14', 'weight_hh_l14', 'bias_ih_l14', 'bias_hh_l14', 'weight_ih_l15', 'weight_hh_l15', 'bias_ih_l15', 'bias_hh_l15', 'weight_ih_l16', 'weight_hh_l16', 'bias_ih_l16', 'bias_hh_l16', 'weight_ih_l17', 'weight_hh_l17', 'bias_ih_l17', 'bias_hh_l17', 'weight_ih_l18', 'weight_hh_l18', 'bias_ih_l18', 'bias_hh_l18', 'weight_ih_l19', 'weight_hh_l19', 'bias_ih_l19', 'bias_hh_l19'])"
      ]
     },
     "execution_count": 140,
     "metadata": {},
     "output_type": "execute_result"
    }
   ],
   "source": [
    "dict(lstm.named_parameters()).keys()"
   ]
  },
  {
   "cell_type": "code",
   "execution_count": 30,
   "metadata": {},
   "outputs": [],
   "source": [
    "# import pytorch lightning\n",
    "import pytorch_lightning as pl\n",
    "from pytorch_lightning import Trainer"
   ]
  },
  {
   "cell_type": "code",
   "execution_count": null,
   "metadata": {},
   "outputs": [],
   "source": []
  },
  {
   "cell_type": "code",
   "execution_count": null,
   "metadata": {},
   "outputs": [],
   "source": [
    "# use pytorch_lightning lstm model to predict heartrate based on watts and cadence\n",
    "from pytorch_lightning.metrics.functional import r2score\n",
    "from pytorch_lightning.callbacks import EarlyStopping, ModelCheckpoint\n",
    "from pytorch_lightning.loggers import TensorBoardLogger\n",
    "\n",
    "# import pytorch\n",
    "import torch\n",
    "import torch.nn as nn\n",
    "import torch.nn.functional as F\n",
    "from torch.utils.data import Dataset, DataLoader\n",
    "\n",
    "# import sklearn\n",
    "from sklearn.preprocessing import StandardScaler\n"
   ]
  },
  {
   "cell_type": "code",
   "execution_count": 32,
   "metadata": {},
   "outputs": [
    {
     "name": "stdout",
     "output_type": "stream",
     "text": [
      "tensor([0, 7, 1, 2, 5, 6, 4, 3])\n"
     ]
    }
   ],
   "source": [
    "import torch\n",
    "sentence = torch.tensor(\n",
    "    [0,\n",
    "    7,\n",
    "    1,\n",
    "    2,\n",
    "    5,\n",
    "    6,\n",
    "    4,\n",
    "    3]\n",
    ")\n",
    "\n",
    "print(sentence)"
   ]
  },
  {
   "cell_type": "code",
   "execution_count": 36,
   "metadata": {},
   "outputs": [
    {
     "name": "stdout",
     "output_type": "stream",
     "text": [
      "torch.Size([8, 16])\n"
     ]
    }
   ],
   "source": [
    "torch.manual_seed(123)\n",
    "embed = torch.nn.Embedding(10, 16)\n",
    "embedded_sentence = embed(sentence).detach()\n",
    "#print(embedded_sentence)\n",
    "print(embedded_sentence.shape)"
   ]
  },
  {
   "cell_type": "code",
   "execution_count": 37,
   "metadata": {},
   "outputs": [],
   "source": [
    "omega = torch.empty(8,8)\n",
    "for i, x_i in enumerate(embedded_sentence):\n",
    "    for j, x_j in enumerate(embedded_sentence):\n",
    "        omega[i,j] = torch.dot(x_i, x_j)"
   ]
  },
  {
   "cell_type": "code",
   "execution_count": 40,
   "metadata": {},
   "outputs": [],
   "source": [
    "omega_mat = embedded_sentence.matmul(embedded_sentence.T)"
   ]
  },
  {
   "cell_type": "code",
   "execution_count": 46,
   "metadata": {},
   "outputs": [
    {
     "name": "stdout",
     "output_type": "stream",
     "text": [
      "torch.Size([8, 8])\n"
     ]
    }
   ],
   "source": [
    "import torch.nn.functional as F\n",
    "attention_weights = F.softmax(omega, dim=1)\n",
    "print(attention_weights.shape)"
   ]
  },
  {
   "cell_type": "code",
   "execution_count": 56,
   "metadata": {},
   "outputs": [
    {
     "name": "stdout",
     "output_type": "stream",
     "text": [
      "tensor([-9.3975e-01, -4.6856e-01,  1.0311e+00, -2.8192e-01,  4.9373e-01,\n",
      "        -1.2896e-02, -2.7327e-01, -7.6358e-01,  1.3958e+00, -9.9543e-01,\n",
      "        -7.1287e-04,  1.2449e+00, -7.8077e-02,  1.2765e+00, -1.4589e+00,\n",
      "        -2.1601e+00])\n"
     ]
    }
   ],
   "source": [
    "x_2 = embedded_sentence[1,:]\n",
    "context_vec_2 = torch.zeros(x_2.shape)\n",
    "for j in range(8):\n",
    "    x_j = embedded_sentence[j,:]\n",
    "    context_vec_2 += attention_weights[1,j] * x_j\n",
    "print(context_vec_2)"
   ]
  },
  {
   "cell_type": "code",
   "execution_count": 58,
   "metadata": {},
   "outputs": [],
   "source": [
    "context_vectors = torch.matmul(attention_weights, embedded_sentence)"
   ]
  },
  {
   "cell_type": "code",
   "execution_count": 65,
   "metadata": {},
   "outputs": [
    {
     "name": "stdout",
     "output_type": "stream",
     "text": [
      "16\n",
      "torch.Size([16])\n",
      "torch.Size([16])\n"
     ]
    }
   ],
   "source": [
    "d = embedded_sentence.shape[1]\n",
    "print(d)\n",
    "U_query = torch.randn(d, d)\n",
    "U_key = torch.randn(d, d)\n",
    "U_value = torch.randn(d, d)\n",
    "\n",
    "x_2 = embedded_sentence[1,:]\n",
    "print(x_2.shape)\n",
    "query_2 = U_query.matmul(x_2)\n",
    "print(query_2.shape)\n",
    "\n",
    "key_2 = U_key.matmul(x_2)\n",
    "value_2 = U_value.matmul(x_2)\n",
    "\n",
    "keys = U_key.matmul(embedded_sentence.T).T\n",
    "values = U_value.matmul(embedded_sentence.T).T"
   ]
  },
  {
   "cell_type": "code",
   "execution_count": 67,
   "metadata": {},
   "outputs": [
    {
     "data": {
      "text/plain": [
       "tensor(-227.7193)"
      ]
     },
     "execution_count": 67,
     "metadata": {},
     "output_type": "execute_result"
    }
   ],
   "source": [
    "omega_23 = query_2.dot(keys[2])\n",
    "omega_23"
   ]
  },
  {
   "cell_type": "code",
   "execution_count": 69,
   "metadata": {},
   "outputs": [
    {
     "data": {
      "text/plain": [
       "tensor([ -27.4746,  -69.3855, -227.7193,    7.6392,  -63.0225,    8.0977,\n",
       "          -7.1507,  -48.4587])"
      ]
     },
     "execution_count": 69,
     "metadata": {},
     "output_type": "execute_result"
    }
   ],
   "source": [
    "omega_2 = query_2.matmul(keys.T)\n",
    "omega_2"
   ]
  },
  {
   "cell_type": "code",
   "execution_count": 79,
   "metadata": {},
   "outputs": [
    {
     "data": {
      "text/plain": [
       "tensor([ -6.8686, -17.3464, -56.9298,   1.9098, -15.7556,   2.0244,  -1.7877,\n",
       "        -12.1147])"
      ]
     },
     "execution_count": 79,
     "metadata": {},
     "output_type": "execute_result"
    }
   ],
   "source": [
    "omega_2 / d**0.5"
   ]
  },
  {
   "cell_type": "code",
   "execution_count": 78,
   "metadata": {},
   "outputs": [
    {
     "data": {
      "text/plain": [
       "tensor([2.1795e-16, 1.3698e-34, 0.0000e+00, 3.8734e-01, 7.9449e-32, 6.1266e-01,\n",
       "        1.4619e-07, 1.6790e-25])"
      ]
     },
     "execution_count": 78,
     "metadata": {},
     "output_type": "execute_result"
    }
   ],
   "source": [
    "F.softmax(omega_2 , dim=0)"
   ]
  },
  {
   "cell_type": "code",
   "execution_count": 74,
   "metadata": {},
   "outputs": [
    {
     "name": "stdout",
     "output_type": "stream",
     "text": [
      "tensor(1.0000)\n"
     ]
    },
    {
     "data": {
      "text/plain": [
       "tensor([7.1756e-05, 2.0204e-09, 1.3019e-26, 4.6590e-01, 9.9149e-09, 5.2248e-01,\n",
       "        1.1548e-02, 3.7803e-07])"
      ]
     },
     "execution_count": 74,
     "metadata": {},
     "output_type": "execute_result"
    }
   ],
   "source": [
    "attention_weights_2 = F.softmax(omega_2 / d**0.5 , dim=0)\n",
    "print(attention_weights_2.sum(dim=0))\n",
    "attention_weights_2"
   ]
  },
  {
   "cell_type": "code",
   "execution_count": 76,
   "metadata": {},
   "outputs": [
    {
     "data": {
      "text/plain": [
       "tensor([ 2.3713, -0.1583, -1.0061,  7.7921,  6.6322, -2.5136, -1.9096, -1.1220,\n",
       "         0.9517, -6.8023,  1.1373,  6.3096, -3.7652,  4.6426,  4.9339,  2.3610])"
      ]
     },
     "execution_count": 76,
     "metadata": {},
     "output_type": "execute_result"
    }
   ],
   "source": [
    "context_vector_2 = attention_weights_2.matmul(values)\n",
    "context_vector_2"
   ]
  },
  {
   "cell_type": "code",
   "execution_count": null,
   "metadata": {},
   "outputs": [],
   "source": []
  },
  {
   "cell_type": "code",
   "execution_count": null,
   "metadata": {},
   "outputs": [],
   "source": []
  },
  {
   "cell_type": "code",
   "execution_count": null,
   "metadata": {},
   "outputs": [],
   "source": [
    "# create a class for the dataset to be used in the pytorch lightning model \n",
    "class HeartrateDataset(Dataset):\n",
    "    def __init__(self, df):\n",
    "        self.df = df\n",
    "        self.scaler = StandardScaler()\n",
    "        self.scaler.fit(self.df)\n",
    "        self.df = self.scaler.transform(self.df)\n",
    "        self.df = torch.from_numpy(self.df).float()\n",
    "        \n",
    "    def __len__(self):\n",
    "        return len(self.df)\n",
    "    \n",
    "    def __getitem__(self, idx):\n",
    "        return self.df[idx, :-1], self.df[idx, -1]\n",
    "\n"
   ]
  },
  {
   "cell_type": "code",
   "execution_count": null,
   "metadata": {},
   "outputs": [],
   "source": [
    "\n",
    "# use pytorch lightning lstm model to predict heartrate based on watts and cadence\n",
    "class HeartratePrediction(pl.LightningModule):\n",
    "    def __init__(self, input_size, hidden_size, num_layers, output_size, lr=0.001, batch_size=32):\n",
    "        super().__init__()\n",
    "        self.save_hyperparameters()\n",
    "        self.lstm = nn.LSTM(input_size, hidden_size, num_layers, batch_first=True)\n",
    "        self.fc = nn.Linear(hidden_size, output_size)\n",
    "        self.loss = nn.MSELoss()\n",
    "        self.batch_size = batch_size\n",
    "        self.lr = lr\n",
    "        self.hidden_size = hidden_size\n",
    "        self.num_layers = num_layers\n",
    "        self.output_size = output_size\n",
    "        self.input_size = input_size\n",
    "        self.h0 = torch.zeros(self.num_layers, self.batch_size, self.hidden_size)\n",
    "        self.c0 = torch.zeros(self.num_layers, self.batch_size, self.hidden_size)\n",
    "        \n",
    "    def forward(self, x):\n",
    "        out, _ = self.lstm(x, (self.h0, self.c0))\n",
    "        out = self.fc(out[:, -1, :])\n",
    "        return out\n",
    "    \n",
    "    def training_step(self, batch, batch_idx):\n",
    "        x, y = batch\n",
    "        y_hat = self(x)\n",
    "        loss = self.loss(y_hat, y)\n",
    "        self.log('train_loss', loss)\n",
    "        return loss\n",
    "    \n",
    "    def validation_step(self, batch, batch_idx):\n",
    "        x, y = batch\n",
    "        y_hat = self(x)\n",
    "        loss = self.loss(y_hat, y)\n",
    "        self.log('val_loss', loss)\n",
    "        return loss\n",
    "    \n",
    "    def test_step(self, batch, batch_idx):\n",
    "        x, y = batch\n",
    "        y_hat = self(x)\n",
    "        loss = self.loss(y_hat, y)\n",
    "        self.log('test_loss', loss)\n",
    "        return loss\n",
    "    \n",
    "    def configure_optimizers(self):\n",
    "        optimizer = torch.optim.Adam(self.parameters(), lr=self.lr)\n",
    "        return optimizer\n",
    "    \n",
    "    def train_dataloader(self):\n",
    "        return DataLoader(self.train_dataset, batch_size=self.batch_size, shuffle=True)\n",
    "    \n",
    "    def val_dataloader(self):\n",
    "        return DataLoader(self.val_dataset, batch_size=self.batch_size, shuffle=False)\n",
    "    \n",
    "    def test_dataloader(self):\n",
    "        return DataLoader(self.test_dataset, batch_size=self.batch_size, shuffle=False)\n",
    "    \n",
    "    def setup(self, stage=None):\n",
    "        if stage == 'fit' or stage is None:\n",
    "            self.train_dataset = HeartrateDataset(self.hparams, 'train')\n",
    "            self.val_dataset = HeartrateDataset(self.hparams\n"
   ]
  }
 ],
 "metadata": {
  "kernelspec": {
   "display_name": "Python 3.9.15 ('strava')",
   "language": "python",
   "name": "python3"
  },
  "language_info": {
   "codemirror_mode": {
    "name": "ipython",
    "version": 3
   },
   "file_extension": ".py",
   "mimetype": "text/x-python",
   "name": "python",
   "nbconvert_exporter": "python",
   "pygments_lexer": "ipython3",
   "version": "3.9.15"
  },
  "orig_nbformat": 4,
  "vscode": {
   "interpreter": {
    "hash": "cddc7d4a7b69a832d052e624f3ab4cc345a081f3afc21e7147ab1d4193317c58"
   }
  }
 },
 "nbformat": 4,
 "nbformat_minor": 2
}
