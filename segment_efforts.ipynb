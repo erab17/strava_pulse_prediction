{
 "cells": [
  {
   "cell_type": "code",
   "execution_count": 34,
   "metadata": {},
   "outputs": [],
   "source": [
    "import sqlite3\n",
    "import pandas as pd\n",
    "import matplotlib.pyplot as plt\n",
    "import numpy as np\n",
    "import seaborn as sns\n",
    "import plotly.express as px\n",
    "import datetime"
   ]
  },
  {
   "cell_type": "code",
   "execution_count": 3,
   "metadata": {},
   "outputs": [],
   "source": [
    "\n",
    "\n",
    "# connect to the database\n",
    "conn = sqlite3.connect('strava.db')\n",
    "c = conn.cursor()\n",
    "\n",
    "# create a dataframe from the activity_details table\n",
    "df = pd.read_sql_query(\"SELECT * FROM segment_efforts\", conn)"
   ]
  },
  {
   "cell_type": "code",
   "execution_count": 6,
   "metadata": {},
   "outputs": [
    {
     "name": "stdout",
     "output_type": "stream",
     "text": [
      "<class 'pandas.core.frame.DataFrame'>\n",
      "RangeIndex: 2086 entries, 0 to 2085\n",
      "Data columns (total 16 columns):\n",
      " #   Column             Non-Null Count  Dtype  \n",
      "---  ------             --------------  -----  \n",
      " 0   segment_name       2086 non-null   object \n",
      " 1   segment_id         2086 non-null   int64  \n",
      " 2   kom_rank           2086 non-null   int64  \n",
      " 3   pr_rank            2086 non-null   int64  \n",
      " 4   moving_time        2086 non-null   int64  \n",
      " 5   elapsed_time       2086 non-null   int64  \n",
      " 6   start_date         2086 non-null   object \n",
      " 7   start_date_local   2086 non-null   object \n",
      " 8   distance           2086 non-null   float64\n",
      " 9   average_watts      2086 non-null   float64\n",
      " 10  average_heartrate  2009 non-null   float64\n",
      " 11  max_heartrate      2009 non-null   float64\n",
      " 12  average_cadence    2086 non-null   float64\n",
      " 13  segment_effort_id  2086 non-null   int64  \n",
      " 14  activity_id        2086 non-null   int64  \n",
      " 15  activity_type      2086 non-null   object \n",
      "dtypes: float64(5), int64(7), object(4)\n",
      "memory usage: 260.9+ KB\n"
     ]
    }
   ],
   "source": [
    "df.info()"
   ]
  },
  {
   "cell_type": "code",
   "execution_count": 9,
   "metadata": {},
   "outputs": [],
   "source": [
    "df[\"start_date\"] = pd.to_datetime(df.start_date)\n",
    "df.drop(columns=[\"start_date_local\", \"kom_rank\", \"segment_effort_id\"], inplace=True)"
   ]
  },
  {
   "cell_type": "code",
   "execution_count": 11,
   "metadata": {},
   "outputs": [],
   "source": [
    "df.sort_values([\"segment_id\", \"start_date\"], ascending=[True, True], inplace=True)"
   ]
  },
  {
   "cell_type": "code",
   "execution_count": 19,
   "metadata": {},
   "outputs": [],
   "source": [
    "df[\"rank_min\"] = df.groupby(\"segment_id\")[\"elapsed_time\"].rank(method=\"min\")"
   ]
  },
  {
   "cell_type": "code",
   "execution_count": 67,
   "metadata": {},
   "outputs": [],
   "source": [
    "df[\"segment_count\"] = df.groupby(\"segment_id\")[\"segment_id\"].transform(\"count\")"
   ]
  },
  {
   "cell_type": "code",
   "execution_count": 76,
   "metadata": {},
   "outputs": [],
   "source": [
    "# how many times was a segment ridden per activity\n",
    "df[\"efforts_per_activity\"] = df.groupby([\"activity_id\", \"segment_id\"])[\"segment_id\"].transform(\"count\")"
   ]
  },
  {
   "cell_type": "code",
   "execution_count": 46,
   "metadata": {},
   "outputs": [],
   "source": [
    "cond = df[\"activity_type\"] == \"Ride\"\n",
    "df_ride = df[cond].copy()"
   ]
  },
  {
   "cell_type": "code",
   "execution_count": 74,
   "metadata": {},
   "outputs": [
    {
     "data": {
      "text/plain": [
       "activity_id  segment_id\n",
       "2718458700   4082037        1\n",
       "5574880828   12922892       1\n",
       "             12748278       1\n",
       "             12734830       1\n",
       "             12476764       1\n",
       "                           ..\n",
       "8036643169   29300100       5\n",
       "8112713879   10703495       9\n",
       "7378592171   9491679       10\n",
       "8112713879   12028262      10\n",
       "6284065809   12023291      10\n",
       "Name: segment_id, Length: 1948, dtype: int64"
      ]
     },
     "execution_count": 74,
     "metadata": {},
     "output_type": "execute_result"
    }
   ],
   "source": [
    "df_ride.groupby([\"activity_id\", \"segment_id\"])[\"segment_id\"].count().sort_values()"
   ]
  },
  {
   "cell_type": "code",
   "execution_count": 75,
   "metadata": {},
   "outputs": [
    {
     "data": {
      "text/html": [
       "<div>\n",
       "<style scoped>\n",
       "    .dataframe tbody tr th:only-of-type {\n",
       "        vertical-align: middle;\n",
       "    }\n",
       "\n",
       "    .dataframe tbody tr th {\n",
       "        vertical-align: top;\n",
       "    }\n",
       "\n",
       "    .dataframe thead th {\n",
       "        text-align: right;\n",
       "    }\n",
       "</style>\n",
       "<table border=\"1\" class=\"dataframe\">\n",
       "  <thead>\n",
       "    <tr style=\"text-align: right;\">\n",
       "      <th></th>\n",
       "      <th>segment_name</th>\n",
       "      <th>segment_id</th>\n",
       "      <th>pr_rank</th>\n",
       "      <th>moving_time</th>\n",
       "      <th>elapsed_time</th>\n",
       "      <th>start_date</th>\n",
       "      <th>distance</th>\n",
       "      <th>average_watts</th>\n",
       "      <th>average_heartrate</th>\n",
       "      <th>max_heartrate</th>\n",
       "      <th>average_cadence</th>\n",
       "      <th>activity_id</th>\n",
       "      <th>activity_type</th>\n",
       "      <th>rank_min</th>\n",
       "      <th>segment_count</th>\n",
       "    </tr>\n",
       "  </thead>\n",
       "  <tbody>\n",
       "    <tr>\n",
       "      <th>473</th>\n",
       "      <td>Milabacken, Solvarbo</td>\n",
       "      <td>12023291</td>\n",
       "      <td>2</td>\n",
       "      <td>66</td>\n",
       "      <td>68</td>\n",
       "      <td>2021-11-20 15:17:30+00:00</td>\n",
       "      <td>285.6</td>\n",
       "      <td>410.9</td>\n",
       "      <td>140.0</td>\n",
       "      <td>159.0</td>\n",
       "      <td>-1000.0</td>\n",
       "      <td>6284065809</td>\n",
       "      <td>Ride</td>\n",
       "      <td>1.0</td>\n",
       "      <td>10</td>\n",
       "    </tr>\n",
       "    <tr>\n",
       "      <th>474</th>\n",
       "      <td>Milabacken, Solvarbo</td>\n",
       "      <td>12023291</td>\n",
       "      <td>-1000</td>\n",
       "      <td>85</td>\n",
       "      <td>86</td>\n",
       "      <td>2021-11-20 15:20:58+00:00</td>\n",
       "      <td>285.6</td>\n",
       "      <td>310.5</td>\n",
       "      <td>141.7</td>\n",
       "      <td>154.0</td>\n",
       "      <td>-1000.0</td>\n",
       "      <td>6284065809</td>\n",
       "      <td>Ride</td>\n",
       "      <td>5.0</td>\n",
       "      <td>10</td>\n",
       "    </tr>\n",
       "    <tr>\n",
       "      <th>475</th>\n",
       "      <td>Milabacken, Solvarbo</td>\n",
       "      <td>12023291</td>\n",
       "      <td>-1000</td>\n",
       "      <td>91</td>\n",
       "      <td>91</td>\n",
       "      <td>2021-11-20 15:24:55+00:00</td>\n",
       "      <td>285.6</td>\n",
       "      <td>307.6</td>\n",
       "      <td>141.5</td>\n",
       "      <td>158.0</td>\n",
       "      <td>-1000.0</td>\n",
       "      <td>6284065809</td>\n",
       "      <td>Ride</td>\n",
       "      <td>8.0</td>\n",
       "      <td>10</td>\n",
       "    </tr>\n",
       "    <tr>\n",
       "      <th>476</th>\n",
       "      <td>Milabacken, Solvarbo</td>\n",
       "      <td>12023291</td>\n",
       "      <td>-1000</td>\n",
       "      <td>87</td>\n",
       "      <td>88</td>\n",
       "      <td>2021-11-20 15:28:54+00:00</td>\n",
       "      <td>285.6</td>\n",
       "      <td>312.0</td>\n",
       "      <td>146.1</td>\n",
       "      <td>160.0</td>\n",
       "      <td>-1000.0</td>\n",
       "      <td>6284065809</td>\n",
       "      <td>Ride</td>\n",
       "      <td>6.0</td>\n",
       "      <td>10</td>\n",
       "    </tr>\n",
       "    <tr>\n",
       "      <th>477</th>\n",
       "      <td>Milabacken, Solvarbo</td>\n",
       "      <td>12023291</td>\n",
       "      <td>-1000</td>\n",
       "      <td>130</td>\n",
       "      <td>130</td>\n",
       "      <td>2021-11-20 15:32:41+00:00</td>\n",
       "      <td>285.6</td>\n",
       "      <td>261.8</td>\n",
       "      <td>148.4</td>\n",
       "      <td>161.0</td>\n",
       "      <td>-1000.0</td>\n",
       "      <td>6284065809</td>\n",
       "      <td>Ride</td>\n",
       "      <td>10.0</td>\n",
       "      <td>10</td>\n",
       "    </tr>\n",
       "    <tr>\n",
       "      <th>478</th>\n",
       "      <td>Milabacken, Solvarbo</td>\n",
       "      <td>12023291</td>\n",
       "      <td>-1000</td>\n",
       "      <td>82</td>\n",
       "      <td>82</td>\n",
       "      <td>2021-11-20 15:36:26+00:00</td>\n",
       "      <td>285.6</td>\n",
       "      <td>317.2</td>\n",
       "      <td>145.8</td>\n",
       "      <td>161.0</td>\n",
       "      <td>-1000.0</td>\n",
       "      <td>6284065809</td>\n",
       "      <td>Ride</td>\n",
       "      <td>3.0</td>\n",
       "      <td>10</td>\n",
       "    </tr>\n",
       "    <tr>\n",
       "      <th>479</th>\n",
       "      <td>Milabacken, Solvarbo</td>\n",
       "      <td>12023291</td>\n",
       "      <td>-1000</td>\n",
       "      <td>83</td>\n",
       "      <td>83</td>\n",
       "      <td>2021-11-20 15:40:08+00:00</td>\n",
       "      <td>285.6</td>\n",
       "      <td>307.1</td>\n",
       "      <td>147.5</td>\n",
       "      <td>162.0</td>\n",
       "      <td>-1000.0</td>\n",
       "      <td>6284065809</td>\n",
       "      <td>Ride</td>\n",
       "      <td>4.0</td>\n",
       "      <td>10</td>\n",
       "    </tr>\n",
       "    <tr>\n",
       "      <th>480</th>\n",
       "      <td>Milabacken, Solvarbo</td>\n",
       "      <td>12023291</td>\n",
       "      <td>-1000</td>\n",
       "      <td>102</td>\n",
       "      <td>102</td>\n",
       "      <td>2021-11-20 15:43:45+00:00</td>\n",
       "      <td>285.6</td>\n",
       "      <td>259.4</td>\n",
       "      <td>139.3</td>\n",
       "      <td>161.0</td>\n",
       "      <td>-1000.0</td>\n",
       "      <td>6284065809</td>\n",
       "      <td>Ride</td>\n",
       "      <td>9.0</td>\n",
       "      <td>10</td>\n",
       "    </tr>\n",
       "    <tr>\n",
       "      <th>481</th>\n",
       "      <td>Milabacken, Solvarbo</td>\n",
       "      <td>12023291</td>\n",
       "      <td>-1000</td>\n",
       "      <td>88</td>\n",
       "      <td>88</td>\n",
       "      <td>2021-11-20 15:47:31+00:00</td>\n",
       "      <td>285.6</td>\n",
       "      <td>305.8</td>\n",
       "      <td>151.2</td>\n",
       "      <td>163.0</td>\n",
       "      <td>-1000.0</td>\n",
       "      <td>6284065809</td>\n",
       "      <td>Ride</td>\n",
       "      <td>6.0</td>\n",
       "      <td>10</td>\n",
       "    </tr>\n",
       "    <tr>\n",
       "      <th>482</th>\n",
       "      <td>Milabacken, Solvarbo</td>\n",
       "      <td>12023291</td>\n",
       "      <td>3</td>\n",
       "      <td>76</td>\n",
       "      <td>76</td>\n",
       "      <td>2021-11-20 15:50:58+00:00</td>\n",
       "      <td>285.6</td>\n",
       "      <td>363.6</td>\n",
       "      <td>158.0</td>\n",
       "      <td>169.0</td>\n",
       "      <td>-1000.0</td>\n",
       "      <td>6284065809</td>\n",
       "      <td>Ride</td>\n",
       "      <td>2.0</td>\n",
       "      <td>10</td>\n",
       "    </tr>\n",
       "  </tbody>\n",
       "</table>\n",
       "</div>"
      ],
      "text/plain": [
       "             segment_name  segment_id  pr_rank  moving_time  elapsed_time  \\\n",
       "473  Milabacken, Solvarbo    12023291        2           66            68   \n",
       "474  Milabacken, Solvarbo    12023291    -1000           85            86   \n",
       "475  Milabacken, Solvarbo    12023291    -1000           91            91   \n",
       "476  Milabacken, Solvarbo    12023291    -1000           87            88   \n",
       "477  Milabacken, Solvarbo    12023291    -1000          130           130   \n",
       "478  Milabacken, Solvarbo    12023291    -1000           82            82   \n",
       "479  Milabacken, Solvarbo    12023291    -1000           83            83   \n",
       "480  Milabacken, Solvarbo    12023291    -1000          102           102   \n",
       "481  Milabacken, Solvarbo    12023291    -1000           88            88   \n",
       "482  Milabacken, Solvarbo    12023291        3           76            76   \n",
       "\n",
       "                   start_date  distance  average_watts  average_heartrate  \\\n",
       "473 2021-11-20 15:17:30+00:00     285.6          410.9              140.0   \n",
       "474 2021-11-20 15:20:58+00:00     285.6          310.5              141.7   \n",
       "475 2021-11-20 15:24:55+00:00     285.6          307.6              141.5   \n",
       "476 2021-11-20 15:28:54+00:00     285.6          312.0              146.1   \n",
       "477 2021-11-20 15:32:41+00:00     285.6          261.8              148.4   \n",
       "478 2021-11-20 15:36:26+00:00     285.6          317.2              145.8   \n",
       "479 2021-11-20 15:40:08+00:00     285.6          307.1              147.5   \n",
       "480 2021-11-20 15:43:45+00:00     285.6          259.4              139.3   \n",
       "481 2021-11-20 15:47:31+00:00     285.6          305.8              151.2   \n",
       "482 2021-11-20 15:50:58+00:00     285.6          363.6              158.0   \n",
       "\n",
       "     max_heartrate  average_cadence  activity_id activity_type  rank_min  \\\n",
       "473          159.0          -1000.0   6284065809          Ride       1.0   \n",
       "474          154.0          -1000.0   6284065809          Ride       5.0   \n",
       "475          158.0          -1000.0   6284065809          Ride       8.0   \n",
       "476          160.0          -1000.0   6284065809          Ride       6.0   \n",
       "477          161.0          -1000.0   6284065809          Ride      10.0   \n",
       "478          161.0          -1000.0   6284065809          Ride       3.0   \n",
       "479          162.0          -1000.0   6284065809          Ride       4.0   \n",
       "480          161.0          -1000.0   6284065809          Ride       9.0   \n",
       "481          163.0          -1000.0   6284065809          Ride       6.0   \n",
       "482          169.0          -1000.0   6284065809          Ride       2.0   \n",
       "\n",
       "     segment_count  \n",
       "473             10  \n",
       "474             10  \n",
       "475             10  \n",
       "476             10  \n",
       "477             10  \n",
       "478             10  \n",
       "479             10  \n",
       "480             10  \n",
       "481             10  \n",
       "482             10  "
      ]
     },
     "execution_count": 75,
     "metadata": {},
     "output_type": "execute_result"
    }
   ],
   "source": [
    "df_ride[df_ride[\"segment_id\"] == 12023291]"
   ]
  },
  {
   "cell_type": "code",
   "execution_count": 45,
   "metadata": {},
   "outputs": [
    {
     "data": {
      "text/html": [
       "<div>\n",
       "<style scoped>\n",
       "    .dataframe tbody tr th:only-of-type {\n",
       "        vertical-align: middle;\n",
       "    }\n",
       "\n",
       "    .dataframe tbody tr th {\n",
       "        vertical-align: top;\n",
       "    }\n",
       "\n",
       "    .dataframe thead th {\n",
       "        text-align: right;\n",
       "    }\n",
       "</style>\n",
       "<table border=\"1\" class=\"dataframe\">\n",
       "  <thead>\n",
       "    <tr style=\"text-align: right;\">\n",
       "      <th></th>\n",
       "      <th>segment_name</th>\n",
       "      <th>segment_id</th>\n",
       "      <th>pr_rank</th>\n",
       "      <th>moving_time</th>\n",
       "      <th>elapsed_time</th>\n",
       "      <th>start_date</th>\n",
       "      <th>distance</th>\n",
       "      <th>average_watts</th>\n",
       "      <th>average_heartrate</th>\n",
       "      <th>max_heartrate</th>\n",
       "      <th>average_cadence</th>\n",
       "      <th>activity_id</th>\n",
       "      <th>activity_type</th>\n",
       "      <th>rank_min</th>\n",
       "      <th>segment_count</th>\n",
       "    </tr>\n",
       "  </thead>\n",
       "  <tbody>\n",
       "    <tr>\n",
       "      <th>2082</th>\n",
       "      <td>Åsbyåsen reverse</td>\n",
       "      <td>4082037</td>\n",
       "      <td>-1000</td>\n",
       "      <td>387</td>\n",
       "      <td>387</td>\n",
       "      <td>2019-09-18 04:24:23+00:00</td>\n",
       "      <td>3134.2</td>\n",
       "      <td>267.1</td>\n",
       "      <td>124.8</td>\n",
       "      <td>152.0</td>\n",
       "      <td>-1000.0</td>\n",
       "      <td>2718458700</td>\n",
       "      <td>Ride</td>\n",
       "      <td>10.0</td>\n",
       "      <td>76</td>\n",
       "    </tr>\n",
       "    <tr>\n",
       "      <th>2071</th>\n",
       "      <td>Åsbyåsen reverse</td>\n",
       "      <td>4082037</td>\n",
       "      <td>-1000</td>\n",
       "      <td>388</td>\n",
       "      <td>388</td>\n",
       "      <td>2019-09-19 04:46:44+00:00</td>\n",
       "      <td>3134.2</td>\n",
       "      <td>273.9</td>\n",
       "      <td>126.1</td>\n",
       "      <td>151.0</td>\n",
       "      <td>-1000.0</td>\n",
       "      <td>2721326728</td>\n",
       "      <td>Ride</td>\n",
       "      <td>12.0</td>\n",
       "      <td>76</td>\n",
       "    </tr>\n",
       "    <tr>\n",
       "      <th>2058</th>\n",
       "      <td>Åsbyåsen reverse</td>\n",
       "      <td>4082037</td>\n",
       "      <td>-1000</td>\n",
       "      <td>402</td>\n",
       "      <td>402</td>\n",
       "      <td>2019-09-20 04:30:24+00:00</td>\n",
       "      <td>3134.2</td>\n",
       "      <td>197.0</td>\n",
       "      <td>109.5</td>\n",
       "      <td>120.0</td>\n",
       "      <td>-1000.0</td>\n",
       "      <td>2724066647</td>\n",
       "      <td>Ride</td>\n",
       "      <td>19.0</td>\n",
       "      <td>76</td>\n",
       "    </tr>\n",
       "    <tr>\n",
       "      <th>2053</th>\n",
       "      <td>Åsbyåsen reverse</td>\n",
       "      <td>4082037</td>\n",
       "      <td>-1000</td>\n",
       "      <td>391</td>\n",
       "      <td>391</td>\n",
       "      <td>2019-09-24 04:32:27+00:00</td>\n",
       "      <td>3134.2</td>\n",
       "      <td>250.2</td>\n",
       "      <td>122.0</td>\n",
       "      <td>132.0</td>\n",
       "      <td>-1000.0</td>\n",
       "      <td>2735200933</td>\n",
       "      <td>Ride</td>\n",
       "      <td>13.0</td>\n",
       "      <td>76</td>\n",
       "    </tr>\n",
       "    <tr>\n",
       "      <th>2041</th>\n",
       "      <td>Åsbyåsen reverse</td>\n",
       "      <td>4082037</td>\n",
       "      <td>-1000</td>\n",
       "      <td>407</td>\n",
       "      <td>407</td>\n",
       "      <td>2019-09-25 04:41:28+00:00</td>\n",
       "      <td>3134.2</td>\n",
       "      <td>259.6</td>\n",
       "      <td>134.3</td>\n",
       "      <td>146.0</td>\n",
       "      <td>-1000.0</td>\n",
       "      <td>2737837179</td>\n",
       "      <td>Ride</td>\n",
       "      <td>20.0</td>\n",
       "      <td>76</td>\n",
       "    </tr>\n",
       "    <tr>\n",
       "      <th>...</th>\n",
       "      <td>...</td>\n",
       "      <td>...</td>\n",
       "      <td>...</td>\n",
       "      <td>...</td>\n",
       "      <td>...</td>\n",
       "      <td>...</td>\n",
       "      <td>...</td>\n",
       "      <td>...</td>\n",
       "      <td>...</td>\n",
       "      <td>...</td>\n",
       "      <td>...</td>\n",
       "      <td>...</td>\n",
       "      <td>...</td>\n",
       "      <td>...</td>\n",
       "      <td>...</td>\n",
       "    </tr>\n",
       "    <tr>\n",
       "      <th>1116</th>\n",
       "      <td>Hällbyvägen S</td>\n",
       "      <td>29298875</td>\n",
       "      <td>1</td>\n",
       "      <td>144</td>\n",
       "      <td>144</td>\n",
       "      <td>2020-07-01 17:40:58+00:00</td>\n",
       "      <td>1254.6</td>\n",
       "      <td>174.4</td>\n",
       "      <td>147.0</td>\n",
       "      <td>151.0</td>\n",
       "      <td>-1000.0</td>\n",
       "      <td>3698950432</td>\n",
       "      <td>Ride</td>\n",
       "      <td>6.0</td>\n",
       "      <td>67</td>\n",
       "    </tr>\n",
       "    <tr>\n",
       "      <th>1082</th>\n",
       "      <td>Hällbyvägen S</td>\n",
       "      <td>29298875</td>\n",
       "      <td>-1000</td>\n",
       "      <td>174</td>\n",
       "      <td>174</td>\n",
       "      <td>2020-07-03 15:13:36+00:00</td>\n",
       "      <td>1254.6</td>\n",
       "      <td>176.0</td>\n",
       "      <td>119.6</td>\n",
       "      <td>129.0</td>\n",
       "      <td>-1000.0</td>\n",
       "      <td>3707770994</td>\n",
       "      <td>Ride</td>\n",
       "      <td>43.0</td>\n",
       "      <td>67</td>\n",
       "    </tr>\n",
       "    <tr>\n",
       "      <th>925</th>\n",
       "      <td>Hällbyvägen S</td>\n",
       "      <td>29298875</td>\n",
       "      <td>2</td>\n",
       "      <td>148</td>\n",
       "      <td>148</td>\n",
       "      <td>2021-05-18 19:05:31+00:00</td>\n",
       "      <td>1254.6</td>\n",
       "      <td>160.9</td>\n",
       "      <td>148.3</td>\n",
       "      <td>153.0</td>\n",
       "      <td>-1000.0</td>\n",
       "      <td>5319516330</td>\n",
       "      <td>Ride</td>\n",
       "      <td>10.0</td>\n",
       "      <td>67</td>\n",
       "    </tr>\n",
       "    <tr>\n",
       "      <th>798</th>\n",
       "      <td>Hällbyvägen S</td>\n",
       "      <td>29298875</td>\n",
       "      <td>-1000</td>\n",
       "      <td>145</td>\n",
       "      <td>145</td>\n",
       "      <td>2021-06-22 20:02:37+00:00</td>\n",
       "      <td>1254.6</td>\n",
       "      <td>324.5</td>\n",
       "      <td>143.4</td>\n",
       "      <td>148.0</td>\n",
       "      <td>-1000.0</td>\n",
       "      <td>5513080648</td>\n",
       "      <td>Ride</td>\n",
       "      <td>7.0</td>\n",
       "      <td>67</td>\n",
       "    </tr>\n",
       "    <tr>\n",
       "      <th>417</th>\n",
       "      <td>Hällbyvägen S</td>\n",
       "      <td>29298875</td>\n",
       "      <td>-1000</td>\n",
       "      <td>196</td>\n",
       "      <td>196</td>\n",
       "      <td>2022-05-24 16:57:52+00:00</td>\n",
       "      <td>1254.6</td>\n",
       "      <td>186.3</td>\n",
       "      <td>135.1</td>\n",
       "      <td>142.0</td>\n",
       "      <td>-1000.0</td>\n",
       "      <td>7196063116</td>\n",
       "      <td>Ride</td>\n",
       "      <td>65.0</td>\n",
       "      <td>67</td>\n",
       "    </tr>\n",
       "  </tbody>\n",
       "</table>\n",
       "<p>998 rows × 15 columns</p>\n",
       "</div>"
      ],
      "text/plain": [
       "          segment_name  segment_id  pr_rank  moving_time  elapsed_time  \\\n",
       "2082  Åsbyåsen reverse     4082037    -1000          387           387   \n",
       "2071  Åsbyåsen reverse     4082037    -1000          388           388   \n",
       "2058  Åsbyåsen reverse     4082037    -1000          402           402   \n",
       "2053  Åsbyåsen reverse     4082037    -1000          391           391   \n",
       "2041  Åsbyåsen reverse     4082037    -1000          407           407   \n",
       "...                ...         ...      ...          ...           ...   \n",
       "1116     Hällbyvägen S    29298875        1          144           144   \n",
       "1082     Hällbyvägen S    29298875    -1000          174           174   \n",
       "925      Hällbyvägen S    29298875        2          148           148   \n",
       "798      Hällbyvägen S    29298875    -1000          145           145   \n",
       "417      Hällbyvägen S    29298875    -1000          196           196   \n",
       "\n",
       "                    start_date  distance  average_watts  average_heartrate  \\\n",
       "2082 2019-09-18 04:24:23+00:00    3134.2          267.1              124.8   \n",
       "2071 2019-09-19 04:46:44+00:00    3134.2          273.9              126.1   \n",
       "2058 2019-09-20 04:30:24+00:00    3134.2          197.0              109.5   \n",
       "2053 2019-09-24 04:32:27+00:00    3134.2          250.2              122.0   \n",
       "2041 2019-09-25 04:41:28+00:00    3134.2          259.6              134.3   \n",
       "...                        ...       ...            ...                ...   \n",
       "1116 2020-07-01 17:40:58+00:00    1254.6          174.4              147.0   \n",
       "1082 2020-07-03 15:13:36+00:00    1254.6          176.0              119.6   \n",
       "925  2021-05-18 19:05:31+00:00    1254.6          160.9              148.3   \n",
       "798  2021-06-22 20:02:37+00:00    1254.6          324.5              143.4   \n",
       "417  2022-05-24 16:57:52+00:00    1254.6          186.3              135.1   \n",
       "\n",
       "      max_heartrate  average_cadence  activity_id activity_type  rank_min  \\\n",
       "2082          152.0          -1000.0   2718458700          Ride      10.0   \n",
       "2071          151.0          -1000.0   2721326728          Ride      12.0   \n",
       "2058          120.0          -1000.0   2724066647          Ride      19.0   \n",
       "2053          132.0          -1000.0   2735200933          Ride      13.0   \n",
       "2041          146.0          -1000.0   2737837179          Ride      20.0   \n",
       "...             ...              ...          ...           ...       ...   \n",
       "1116          151.0          -1000.0   3698950432          Ride       6.0   \n",
       "1082          129.0          -1000.0   3707770994          Ride      43.0   \n",
       "925           153.0          -1000.0   5319516330          Ride      10.0   \n",
       "798           148.0          -1000.0   5513080648          Ride       7.0   \n",
       "417           142.0          -1000.0   7196063116          Ride      65.0   \n",
       "\n",
       "      segment_count  \n",
       "2082             76  \n",
       "2071             76  \n",
       "2058             76  \n",
       "2053             76  \n",
       "2041             76  \n",
       "...             ...  \n",
       "1116             67  \n",
       "1082             67  \n",
       "925              67  \n",
       "798              67  \n",
       "417              67  \n",
       "\n",
       "[998 rows x 15 columns]"
      ]
     },
     "execution_count": 45,
     "metadata": {},
     "output_type": "execute_result"
    }
   ],
   "source": [
    "cond = df.segment_count > 10\n",
    "df[cond]"
   ]
  },
  {
   "cell_type": "code",
   "execution_count": 42,
   "metadata": {},
   "outputs": [
    {
     "data": {
      "text/plain": [
       "<AxesSubplot:ylabel='Frequency'>"
      ]
     },
     "execution_count": 42,
     "metadata": {},
     "output_type": "execute_result"
    },
    {
     "data": {
      "image/png": "[encoded data removed]",
      "text/plain": [
       "<Figure size 640x480 with 1 Axes>"
      ]
     },
     "metadata": {},
     "output_type": "display_data"
    }
   ],
   "source": [
    "df.segment_id.value_counts().clip(None, 40).plot(kind=\"hist\", bins=100)"
   ]
  },
  {
   "cell_type": "code",
   "execution_count": 30,
   "metadata": {},
   "outputs": [
    {
     "data": {
      "text/plain": [
       "Ride           2025\n",
       "Run              55\n",
       "VirtualRide       6\n",
       "Name: activity_type, dtype: int64"
      ]
     },
     "execution_count": 30,
     "metadata": {},
     "output_type": "execute_result"
    }
   ],
   "source": [
    "df.activity_type.value_counts()"
   ]
  },
  {
   "cell_type": "code",
   "execution_count": 38,
   "metadata": {},
   "outputs": [
    {
     "data": {
      "application/vnd.plotly.v1+json": {
       "config": {
        "plotlyServerURL": "https://plot.ly"
       },
       "data": [
        {
         "customdata": [
          [
           "2019-09-18T04:24:19+00:00",
           "Ride",
           81,
           13
          ],
          [
           "2019-09-19T04:46:39+00:00",
           "Ride",
           81,
           9
          ],
          [
           "2019-09-20T04:30:17+00:00",
           "Ride",
           81,
           27
          ],
          [
           "2019-09-24T04:32:20+00:00",
           "Ride",
           81,
           19
          ],
          [
           "2019-09-25T04:41:21+00:00",
           "Ride",
           81,
           22
          ],
          [
           "2019-09-26T04:45:41+00:00",
           "Ride",
           81,
           38
          ],
          [
           "2019-09-27T04:33:54+00:00",
           "Ride",
           81,
           22
          ],
          [
           "2019-10-01T04:34:42+00:00",
           "Ride",
           81,
           50
          ],
          [
           "2019-10-02T04:52:45+00:00",
           "Ride",
           81,
           19
          ],
          [
           "2019-10-03T04:44:56+00:00",
           "Ride",
           81,
           47
          ],
          [
           "2019-10-04T04:44:09+00:00",
           "Ride",
           81,
           70
          ],
          [
           "2019-10-07T04:31:09+00:00",
           "Ride",
           81,
           16
          ],
          [
           "2019-11-01T05:41:42+00:00",
           "Ride",
           81,
           45
          ],
          [
           "2019-11-06T05:48:32+00:00",
           "Ride",
           81,
           42
          ],
          [
           "2019-11-07T05:35:00+00:00",
           "Ride",
           81,
           27
          ],
          [
           "2019-11-11T05:26:54+00:00",
           "Ride",
           81,
           42
          ],
          [
           "2019-11-12T05:36:55+00:00",
           "Ride",
           81,
           37
          ],
          [
           "2019-11-13T05:45:56+00:00",
           "Ride",
           81,
           33
          ],
          [
           "2019-11-14T05:38:03+00:00",
           "Ride",
           81,
           46
          ],
          [
           "2019-11-15T05:19:08+00:00",
           "Ride",
           81,
           21
          ],
          [
           "2019-11-18T05:38:13+00:00",
           "Ride",
           81,
           33
          ],
          [
           "2019-11-19T05:41:21+00:00",
           "Ride",
           81,
           31
          ],
          [
           "2019-11-20T05:39:24+00:00",
           "Ride",
           81,
           48
          ],
          [
           "2019-11-21T05:17:25+00:00",
           "Ride",
           81,
           53
          ],
          [
           "2019-11-22T05:22:42+00:00",
           "Ride",
           81,
           39
          ],
          [
           "2019-12-11T06:47:11+00:00",
           "Ride",
           81,
           76
          ],
          [
           "2019-12-16T05:42:02+00:00",
           "Ride",
           81,
           39
          ],
          [
           "2019-12-17T06:00:34+00:00",
           "Ride",
           81,
           42
          ],
          [
           "2019-12-18T05:56:00+00:00",
           "Ride",
           81,
           76
          ],
          [
           "2019-12-19T05:12:39+00:00",
           "Ride",
           81,
           79
          ],
          [
           "2019-12-20T05:09:32+00:00",
           "Ride",
           81,
           63
          ],
          [
           "2020-01-08T05:31:25+00:00",
           "Ride",
           81,
           65
          ],
          [
           "2020-01-09T05:37:00+00:00",
           "Ride",
           81,
           68
          ],
          [
           "2020-01-10T05:26:52+00:00",
           "Ride",
           81,
           73
          ],
          [
           "2020-01-13T05:27:09+00:00",
           "Ride",
           81,
           73
          ],
          [
           "2020-01-15T05:37:05+00:00",
           "Ride",
           81,
           41
          ],
          [
           "2020-01-16T05:29:09+00:00",
           "Ride",
           81,
           55
          ],
          [
           "2020-01-17T05:14:01+00:00",
           "Ride",
           81,
           55
          ],
          [
           "2020-01-20T05:16:53+00:00",
           "Ride",
           81,
           78
          ],
          [
           "2020-01-21T05:22:14+00:00",
           "Ride",
           81,
           53
          ],
          [
           "2020-01-22T04:52:42+00:00",
           "Ride",
           81,
           55
          ],
          [
           "2020-01-23T05:16:49+00:00",
           "Ride",
           81,
           65
          ],
          [
           "2020-01-28T05:32:35+00:00",
           "Ride",
           81,
           33
          ],
          [
           "2020-01-30T05:20:09+00:00",
           "Ride",
           81,
           50
          ],
          [
           "2020-01-31T05:19:53+00:00",
           "Ride",
           81,
           26
          ],
          [
           "2020-02-03T05:19:59+00:00",
           "Ride",
           81,
           55
          ],
          [
           "2020-02-11T05:26:52+00:00",
           "Ride",
           81,
           63
          ],
          [
           "2020-02-13T05:19:17+00:00",
           "Ride",
           81,
           65
          ],
          [
           "2020-02-17T04:53:52+00:00",
           "Ride",
           81,
           68
          ],
          [
           "2020-02-18T05:25:37+00:00",
           "Ride",
           81,
           60
          ],
          [
           "2020-02-19T05:46:21+00:00",
           "Ride",
           81,
           52
          ],
          [
           "2020-02-20T05:25:17+00:00",
           "Ride",
           81,
           60
          ],
          [
           "2020-02-24T05:19:01+00:00",
           "Ride",
           81,
           75
          ],
          [
           "2020-02-25T05:23:04+00:00",
           "Ride",
           81,
           60
          ],
          [
           "2020-02-27T05:24:31+00:00",
           "Ride",
           81,
           80
          ],
          [
           "2020-03-05T05:18:24+00:00",
           "Ride",
           81,
           71
          ],
          [
           "2020-03-09T05:14:39+00:00",
           "Ride",
           81,
           22
          ],
          [
           "2020-03-10T05:07:21+00:00",
           "Ride",
           81,
           31
          ],
          [
           "2020-03-13T05:11:55+00:00",
           "Ride",
           81,
           55
          ],
          [
           "2020-03-17T05:23:01+00:00",
           "Ride",
           81,
           29
          ],
          [
           "2020-04-20T04:49:19+00:00",
           "Ride",
           81,
           16
          ],
          [
           "2020-04-24T04:31:00+00:00",
           "Ride",
           81,
           22
          ],
          [
           "2020-05-06T05:44:54+00:00",
           "Ride",
           81,
           14
          ],
          [
           "2020-05-13T05:49:15+00:00",
           "Ride",
           81,
           48
          ],
          [
           "2020-05-26T06:15:06+00:00",
           "Ride",
           81,
           29
          ],
          [
           "2020-05-27T05:23:06+00:00",
           "Ride",
           81,
           8
          ],
          [
           "2020-05-28T05:50:32+00:00",
           "Ride",
           81,
           71
          ],
          [
           "2020-06-02T05:33:07+00:00",
           "Ride",
           81,
           18
          ],
          [
           "2020-06-03T05:50:27+00:00",
           "Ride",
           81,
           14
          ],
          [
           "2020-06-09T05:27:58+00:00",
           "Ride",
           81,
           33
          ],
          [
           "2020-07-08T12:46:51+00:00",
           "Ride",
           81,
           9
          ],
          [
           "2020-07-11T18:19:01+00:00",
           "Ride",
           81,
           4
          ],
          [
           "2021-05-18T18:16:39+00:00",
           "Ride",
           81,
           2
          ],
          [
           "2021-07-07T17:18:37+00:00",
           "Ride",
           81,
           3
          ],
          [
           "2021-07-11T14:13:56+00:00",
           "Ride",
           81,
           81
          ],
          [
           "2021-08-12T18:32:58+00:00",
           "Ride",
           81,
           5
          ],
          [
           "2021-08-12T18:41:34+00:00",
           "Ride",
           81,
           12
          ],
          [
           "2021-08-12T18:50:27+00:00",
           "Ride",
           81,
           6
          ],
          [
           "2021-08-12T18:59:38+00:00",
           "Ride",
           81,
           9
          ],
          [
           "2022-08-09T17:29:07+00:00",
           "Ride",
           81,
           7
          ],
          [
           "2022-08-19T09:26:52+00:00",
           "Ride",
           81,
           1
          ]
         ],
         "hovertemplate": "average_heartrate=%{x}<br>elapsed_time=%{y}<br>start_date=%{customdata[0]}<br>activity_type=%{customdata[1]}<br>segment_count=%{customdata[2]}<br>rank_min=%{customdata[3]}<extra></extra>",
         "legendgroup": "",
         "marker": {
          "color": "#636efa",
          "symbol": "circle"
         },
         "mode": "markers",
         "name": "",
         "orientation": "v",
         "showlegend": false,
         "type": "scatter",
         "x": [
          119.6,
          118.2,
          105.5,
          121.6,
          134.5,
          138.6,
          127,
          113.3,
          113.5,
          127.7,
          119.7,
          127.3,
          118.9,
          122.8,
          108,
          132.7,
          113.9,
          117.8,
          124.6,
          130.2,
          125.7,
          104,
          118.2,
          99.9,
          117.9,
          115.2,
          141.9,
          127.1,
          123.3,
          113.4,
          116.7,
          130.8,
          129.5,
          140.9,
          120.8,
          132.5,
          117.6,
          129.1,
          121.9,
          124.4,
          138.7,
          141.7,
          122.1,
          118.4,
          120.9,
          133,
          129,
          140.3,
          125,
          124.8,
          115.3,
          121.4,
          121.3,
          118.4,
          133.9,
          133.1,
          123.4,
          124,
          133.3,
          131.3,
          108.8,
          119.9,
          123.7,
          106.5,
          129.7,
          112.1,
          105.4,
          128.1,
          127.8,
          132.7,
          125.8,
          152.4,
          158.6,
          144.7,
          93.8,
          154.3,
          159.6,
          158.1,
          153.9,
          null,
          160.6
         ],
         "xaxis": "x",
         "y": [
          167,
          164,
          179,
          175,
          177,
          186,
          177,
          195,
          175,
          192,
          204,
          172,
          190,
          189,
          179,
          189,
          184,
          183,
          191,
          176,
          183,
          181,
          193,
          198,
          187,
          210,
          187,
          189,
          210,
          229,
          201,
          202,
          203,
          206,
          206,
          188,
          199,
          199,
          215,
          198,
          199,
          202,
          183,
          195,
          178,
          199,
          201,
          202,
          203,
          200,
          196,
          200,
          208,
          200,
          240,
          205,
          177,
          181,
          199,
          180,
          172,
          177,
          170,
          193,
          180,
          159,
          205,
          173,
          170,
          183,
          164,
          151,
          136,
          150,
          287,
          153,
          165,
          155,
          164,
          156,
          134
         ],
         "yaxis": "y"
        }
       ],
       "layout": {
        "legend": {
         "tracegroupgap": 0
        },
        "margin": {
         "t": 60
        },
        "template": {
         "data": {
          "bar": [
           {
            "error_x": {
             "color": "#2a3f5f"
            },
            "error_y": {
             "color": "#2a3f5f"
            },
            "marker": {
             "line": {
              "color": "#E5ECF6",
              "width": 0.5
             },
             "pattern": {
              "fillmode": "overlay",
              "size": 10,
              "solidity": 0.2
             }
            },
            "type": "bar"
           }
          ],
          "barpolar": [
           {
            "marker": {
             "line": {
              "color": "#E5ECF6",
              "width": 0.5
             },
             "pattern": {
              "fillmode": "overlay",
              "size": 10,
              "solidity": 0.2
             }
            },
            "type": "barpolar"
           }
          ],
          "carpet": [
           {
            "aaxis": {
             "endlinecolor": "#2a3f5f",
             "gridcolor": "white",
             "linecolor": "white",
             "minorgridcolor": "white",
             "startlinecolor": "#2a3f5f"
            },
            "baxis": {
             "endlinecolor": "#2a3f5f",
             "gridcolor": "white",
             "linecolor": "white",
             "minorgridcolor": "white",
             "startlinecolor": "#2a3f5f"
            },
            "type": "carpet"
           }
          ],
          "choropleth": [
           {
            "colorbar": {
             "outlinewidth": 0,
             "ticks": ""
            },
            "type": "choropleth"
           }
          ],
          "contour": [
           {
            "colorbar": {
             "outlinewidth": 0,
             "ticks": ""
            },
            "colorscale": [
             [
              0,
              "#0d0887"
             ],
             [
              0.1111111111111111,
              "#46039f"
             ],
             [
              0.2222222222222222,
              "#7201a8"
             ],
             [
              0.3333333333333333,
              "#9c179e"
             ],
             [
              0.4444444444444444,
              "#bd3786"
             ],
             [
              0.5555555555555556,
              "#d8576b"
             ],
             [
              0.6666666666666666,
              "#ed7953"
             ],
             [
              0.7777777777777778,
              "#fb9f3a"
             ],
             [
              0.8888888888888888,
              "#fdca26"
             ],
             [
              1,
              "#f0f921"
             ]
            ],
            "type": "contour"
           }
          ],
          "contourcarpet": [
           {
            "colorbar": {
             "outlinewidth": 0,
             "ticks": ""
            },
            "type": "contourcarpet"
           }
          ],
          "heatmap": [
           {
            "colorbar": {
             "outlinewidth": 0,
             "ticks": ""
            },
            "colorscale": [
             [
              0,
              "#0d0887"
             ],
             [
              0.1111111111111111,
              "#46039f"
             ],
             [
              0.2222222222222222,
              "#7201a8"
             ],
             [
              0.3333333333333333,
              "#9c179e"
             ],
             [
              0.4444444444444444,
              "#bd3786"
             ],
             [
              0.5555555555555556,
              "#d8576b"
             ],
             [
              0.6666666666666666,
              "#ed7953"
             ],
             [
              0.7777777777777778,
              "#fb9f3a"
             ],
             [
              0.8888888888888888,
              "#fdca26"
             ],
             [
              1,
              "#f0f921"
             ]
            ],
            "type": "heatmap"
           }
          ],
          "heatmapgl": [
           {
            "colorbar": {
             "outlinewidth": 0,
             "ticks": ""
            },
            "colorscale": [
             [
              0,
              "#0d0887"
             ],
             [
              0.1111111111111111,
              "#46039f"
             ],
             [
              0.2222222222222222,
              "#7201a8"
             ],
             [
              0.3333333333333333,
              "#9c179e"
             ],
             [
              0.4444444444444444,
              "#bd3786"
             ],
             [
              0.5555555555555556,
              "#d8576b"
             ],
             [
              0.6666666666666666,
              "#ed7953"
             ],
             [
              0.7777777777777778,
              "#fb9f3a"
             ],
             [
              0.8888888888888888,
              "#fdca26"
             ],
             [
              1,
              "#f0f921"
             ]
            ],
            "type": "heatmapgl"
           }
          ],
          "histogram": [
           {
            "marker": {
             "pattern": {
              "fillmode": "overlay",
              "size": 10,
              "solidity": 0.2
             }
            },
            "type": "histogram"
           }
          ],
          "histogram2d": [
           {
            "colorbar": {
             "outlinewidth": 0,
             "ticks": ""
            },
            "colorscale": [
             [
              0,
              "#0d0887"
             ],
             [
              0.1111111111111111,
              "#46039f"
             ],
             [
              0.2222222222222222,
              "#7201a8"
             ],
             [
              0.3333333333333333,
              "#9c179e"
             ],
             [
              0.4444444444444444,
              "#bd3786"
             ],
             [
              0.5555555555555556,
              "#d8576b"
             ],
             [
              0.6666666666666666,
              "#ed7953"
             ],
             [
              0.7777777777777778,
              "#fb9f3a"
             ],
             [
              0.8888888888888888,
              "#fdca26"
             ],
             [
              1,
              "#f0f921"
             ]
            ],
            "type": "histogram2d"
           }
          ],
          "histogram2dcontour": [
           {
            "colorbar": {
             "outlinewidth": 0,
             "ticks": ""
            },
            "colorscale": [
             [
              0,
              "#0d0887"
             ],
             [
              0.1111111111111111,
              "#46039f"
             ],
             [
              0.2222222222222222,
              "#7201a8"
             ],
             [
              0.3333333333333333,
              "#9c179e"
             ],
             [
              0.4444444444444444,
              "#bd3786"
             ],
             [
              0.5555555555555556,
              "#d8576b"
             ],
             [
              0.6666666666666666,
              "#ed7953"
             ],
             [
              0.7777777777777778,
              "#fb9f3a"
             ],
             [
              0.8888888888888888,
              "#fdca26"
             ],
             [
              1,
              "#f0f921"
             ]
            ],
            "type": "histogram2dcontour"
           }
          ],
          "mesh3d": [
           {
            "colorbar": {
             "outlinewidth": 0,
             "ticks": ""
            },
            "type": "mesh3d"
           }
          ],
          "parcoords": [
           {
            "line": {
             "colorbar": {
              "outlinewidth": 0,
              "ticks": ""
             }
            },
            "type": "parcoords"
           }
          ],
          "pie": [
           {
            "automargin": true,
            "type": "pie"
           }
          ],
          "scatter": [
           {
            "fillpattern": {
             "fillmode": "overlay",
             "size": 10,
             "solidity": 0.2
            },
            "type": "scatter"
           }
          ],
          "scatter3d": [
           {
            "line": {
             "colorbar": {
              "outlinewidth": 0,
              "ticks": ""
             }
            },
            "marker": {
             "colorbar": {
              "outlinewidth": 0,
              "ticks": ""
             }
            },
            "type": "scatter3d"
           }
          ],
          "scattercarpet": [
           {
            "marker": {
             "colorbar": {
              "outlinewidth": 0,
              "ticks": ""
             }
            },
            "type": "scattercarpet"
           }
          ],
          "scattergeo": [
           {
            "marker": {
             "colorbar": {
              "outlinewidth": 0,
              "ticks": ""
             }
            },
            "type": "scattergeo"
           }
          ],
          "scattergl": [
           {
            "marker": {
             "colorbar": {
              "outlinewidth": 0,
              "ticks": ""
             }
            },
            "type": "scattergl"
           }
          ],
          "scattermapbox": [
           {
            "marker": {
             "colorbar": {
              "outlinewidth": 0,
              "ticks": ""
             }
            },
            "type": "scattermapbox"
           }
          ],
          "scatterpolar": [
           {
            "marker": {
             "colorbar": {
              "outlinewidth": 0,
              "ticks": ""
             }
            },
            "type": "scatterpolar"
           }
          ],
          "scatterpolargl": [
           {
            "marker": {
             "colorbar": {
              "outlinewidth": 0,
              "ticks": ""
             }
            },
            "type": "scatterpolargl"
           }
          ],
          "scatterternary": [
           {
            "marker": {
             "colorbar": {
              "outlinewidth": 0,
              "ticks": ""
             }
            },
            "type": "scatterternary"
           }
          ],
          "surface": [
           {
            "colorbar": {
             "outlinewidth": 0,
             "ticks": ""
            },
            "colorscale": [
             [
              0,
              "#0d0887"
             ],
             [
              0.1111111111111111,
              "#46039f"
             ],
             [
              0.2222222222222222,
              "#7201a8"
             ],
             [
              0.3333333333333333,
              "#9c179e"
             ],
             [
              0.4444444444444444,
              "#bd3786"
             ],
             [
              0.5555555555555556,
              "#d8576b"
             ],
             [
              0.6666666666666666,
              "#ed7953"
             ],
             [
              0.7777777777777778,
              "#fb9f3a"
             ],
             [
              0.8888888888888888,
              "#fdca26"
             ],
             [
              1,
              "#f0f921"
             ]
            ],
            "type": "surface"
           }
          ],
          "table": [
           {
            "cells": {
             "fill": {
              "color": "#EBF0F8"
             },
             "line": {
              "color": "white"
             }
            },
            "header": {
             "fill": {
              "color": "#C8D4E3"
             },
             "line": {
              "color": "white"
             }
            },
            "type": "table"
           }
          ]
         },
         "layout": {
          "annotationdefaults": {
           "arrowcolor": "#2a3f5f",
           "arrowhead": 0,
           "arrowwidth": 1
          },
          "autotypenumbers": "strict",
          "coloraxis": {
           "colorbar": {
            "outlinewidth": 0,
            "ticks": ""
           }
          },
          "colorscale": {
           "diverging": [
            [
             0,
             "#8e0152"
            ],
            [
             0.1,
             "#c51b7d"
            ],
            [
             0.2,
             "#de77ae"
            ],
            [
             0.3,
             "#f1b6da"
            ],
            [
             0.4,
             "#fde0ef"
            ],
            [
             0.5,
             "#f7f7f7"
            ],
            [
             0.6,
             "#e6f5d0"
            ],
            [
             0.7,
             "#b8e186"
            ],
            [
             0.8,
             "#7fbc41"
            ],
            [
             0.9,
             "#4d9221"
            ],
            [
             1,
             "#276419"
            ]
           ],
           "sequential": [
            [
             0,
             "#0d0887"
            ],
            [
             0.1111111111111111,
             "#46039f"
            ],
            [
             0.2222222222222222,
             "#7201a8"
            ],
            [
             0.3333333333333333,
             "#9c179e"
            ],
            [
             0.4444444444444444,
             "#bd3786"
            ],
            [
             0.5555555555555556,
             "#d8576b"
            ],
            [
             0.6666666666666666,
             "#ed7953"
            ],
            [
             0.7777777777777778,
             "#fb9f3a"
            ],
            [
             0.8888888888888888,
             "#fdca26"
            ],
            [
             1,
             "#f0f921"
            ]
           ],
           "sequentialminus": [
            [
             0,
             "#0d0887"
            ],
            [
             0.1111111111111111,
             "#46039f"
            ],
            [
             0.2222222222222222,
             "#7201a8"
            ],
            [
             0.3333333333333333,
             "#9c179e"
            ],
            [
             0.4444444444444444,
             "#bd3786"
            ],
            [
             0.5555555555555556,
             "#d8576b"
            ],
            [
             0.6666666666666666,
             "#ed7953"
            ],
            [
             0.7777777777777778,
             "#fb9f3a"
            ],
            [
             0.8888888888888888,
             "#fdca26"
            ],
            [
             1,
             "#f0f921"
            ]
           ]
          },
          "colorway": [
           "#636efa",
           "#EF553B",
           "#00cc96",
           "#ab63fa",
           "#FFA15A",
           "#19d3f3",
           "#FF6692",
           "#B6E880",
           "#FF97FF",
           "#FECB52"
          ],
          "font": {
           "color": "#2a3f5f"
          },
          "geo": {
           "bgcolor": "white",
           "lakecolor": "white",
           "landcolor": "#E5ECF6",
           "showlakes": true,
           "showland": true,
           "subunitcolor": "white"
          },
          "hoverlabel": {
           "align": "left"
          },
          "hovermode": "closest",
          "mapbox": {
           "style": "light"
          },
          "paper_bgcolor": "white",
          "plot_bgcolor": "#E5ECF6",
          "polar": {
           "angularaxis": {
            "gridcolor": "white",
            "linecolor": "white",
            "ticks": ""
           },
           "bgcolor": "#E5ECF6",
           "radialaxis": {
            "gridcolor": "white",
            "linecolor": "white",
            "ticks": ""
           }
          },
          "scene": {
           "xaxis": {
            "backgroundcolor": "#E5ECF6",
            "gridcolor": "white",
            "gridwidth": 2,
            "linecolor": "white",
            "showbackground": true,
            "ticks": "",
            "zerolinecolor": "white"
           },
           "yaxis": {
            "backgroundcolor": "#E5ECF6",
            "gridcolor": "white",
            "gridwidth": 2,
            "linecolor": "white",
            "showbackground": true,
            "ticks": "",
            "zerolinecolor": "white"
           },
           "zaxis": {
            "backgroundcolor": "#E5ECF6",
            "gridcolor": "white",
            "gridwidth": 2,
            "linecolor": "white",
            "showbackground": true,
            "ticks": "",
            "zerolinecolor": "white"
           }
          },
          "shapedefaults": {
           "line": {
            "color": "#2a3f5f"
           }
          },
          "ternary": {
           "aaxis": {
            "gridcolor": "white",
            "linecolor": "white",
            "ticks": ""
           },
           "baxis": {
            "gridcolor": "white",
            "linecolor": "white",
            "ticks": ""
           },
           "bgcolor": "#E5ECF6",
           "caxis": {
            "gridcolor": "white",
            "linecolor": "white",
            "ticks": ""
           }
          },
          "title": {
           "x": 0.05
          },
          "xaxis": {
           "automargin": true,
           "gridcolor": "white",
           "linecolor": "white",
           "ticks": "",
           "title": {
            "standoff": 15
           },
           "zerolinecolor": "white",
           "zerolinewidth": 2
          },
          "yaxis": {
           "automargin": true,
           "gridcolor": "white",
           "linecolor": "white",
           "ticks": "",
           "title": {
            "standoff": 15
           },
           "zerolinecolor": "white",
           "zerolinewidth": 2
          }
         }
        },
        "xaxis": {
         "anchor": "y",
         "domain": [
          0,
          1
         ],
         "title": {
          "text": "average_heartrate"
         }
        },
        "yaxis": {
         "anchor": "x",
         "domain": [
          0,
          1
         ],
         "title": {
          "text": "elapsed_time"
         }
        }
       }
      }
     },
     "metadata": {},
     "output_type": "display_data"
    }
   ],
   "source": [
    "cond = df.segment_id == 12580876\n",
    "# make a plotly scatter plot of max_heartrate and elapsed_time for the segment with id 12580876\n",
    "fig = px.scatter(df[cond], x=\"average_heartrate\", y=\"elapsed_time\", hover_data=[\"start_date\", \"activity_type\", \"segment_count\", \"rank_min\"])\n",
    "fig.show()\n"
   ]
  },
  {
   "cell_type": "code",
   "execution_count": 37,
   "metadata": {},
   "outputs": [
    {
     "data": {
      "application/vnd.plotly.v1+json": {
       "config": {
        "plotlyServerURL": "https://plot.ly"
       },
       "data": [
        {
         "customdata": [
          [
           "2019-09-18T04:24:19+00:00",
           "Ride",
           81,
           13
          ],
          [
           "2019-09-19T04:46:39+00:00",
           "Ride",
           81,
           9
          ],
          [
           "2019-09-20T04:30:17+00:00",
           "Ride",
           81,
           27
          ],
          [
           "2019-09-24T04:32:20+00:00",
           "Ride",
           81,
           19
          ],
          [
           "2019-09-25T04:41:21+00:00",
           "Ride",
           81,
           22
          ],
          [
           "2019-09-26T04:45:41+00:00",
           "Ride",
           81,
           38
          ],
          [
           "2019-09-27T04:33:54+00:00",
           "Ride",
           81,
           22
          ],
          [
           "2019-10-01T04:34:42+00:00",
           "Ride",
           81,
           50
          ],
          [
           "2019-10-02T04:52:45+00:00",
           "Ride",
           81,
           19
          ],
          [
           "2019-10-03T04:44:56+00:00",
           "Ride",
           81,
           47
          ],
          [
           "2019-10-04T04:44:09+00:00",
           "Ride",
           81,
           70
          ],
          [
           "2019-10-07T04:31:09+00:00",
           "Ride",
           81,
           16
          ],
          [
           "2019-11-01T05:41:42+00:00",
           "Ride",
           81,
           45
          ],
          [
           "2019-11-06T05:48:32+00:00",
           "Ride",
           81,
           42
          ],
          [
           "2019-11-07T05:35:00+00:00",
           "Ride",
           81,
           27
          ],
          [
           "2019-11-11T05:26:54+00:00",
           "Ride",
           81,
           42
          ],
          [
           "2019-11-12T05:36:55+00:00",
           "Ride",
           81,
           37
          ],
          [
           "2019-11-13T05:45:56+00:00",
           "Ride",
           81,
           33
          ],
          [
           "2019-11-14T05:38:03+00:00",
           "Ride",
           81,
           46
          ],
          [
           "2019-11-15T05:19:08+00:00",
           "Ride",
           81,
           21
          ],
          [
           "2019-11-18T05:38:13+00:00",
           "Ride",
           81,
           33
          ],
          [
           "2019-11-19T05:41:21+00:00",
           "Ride",
           81,
           31
          ],
          [
           "2019-11-20T05:39:24+00:00",
           "Ride",
           81,
           48
          ],
          [
           "2019-11-21T05:17:25+00:00",
           "Ride",
           81,
           53
          ],
          [
           "2019-11-22T05:22:42+00:00",
           "Ride",
           81,
           39
          ],
          [
           "2019-12-11T06:47:11+00:00",
           "Ride",
           81,
           76
          ],
          [
           "2019-12-16T05:42:02+00:00",
           "Ride",
           81,
           39
          ],
          [
           "2019-12-17T06:00:34+00:00",
           "Ride",
           81,
           42
          ],
          [
           "2019-12-18T05:56:00+00:00",
           "Ride",
           81,
           76
          ],
          [
           "2019-12-19T05:12:39+00:00",
           "Ride",
           81,
           79
          ],
          [
           "2019-12-20T05:09:32+00:00",
           "Ride",
           81,
           63
          ],
          [
           "2020-01-08T05:31:25+00:00",
           "Ride",
           81,
           65
          ],
          [
           "2020-01-09T05:37:00+00:00",
           "Ride",
           81,
           68
          ],
          [
           "2020-01-10T05:26:52+00:00",
           "Ride",
           81,
           73
          ],
          [
           "2020-01-13T05:27:09+00:00",
           "Ride",
           81,
           73
          ],
          [
           "2020-01-15T05:37:05+00:00",
           "Ride",
           81,
           41
          ],
          [
           "2020-01-16T05:29:09+00:00",
           "Ride",
           81,
           55
          ],
          [
           "2020-01-17T05:14:01+00:00",
           "Ride",
           81,
           55
          ],
          [
           "2020-01-20T05:16:53+00:00",
           "Ride",
           81,
           78
          ],
          [
           "2020-01-21T05:22:14+00:00",
           "Ride",
           81,
           53
          ],
          [
           "2020-01-22T04:52:42+00:00",
           "Ride",
           81,
           55
          ],
          [
           "2020-01-23T05:16:49+00:00",
           "Ride",
           81,
           65
          ],
          [
           "2020-01-28T05:32:35+00:00",
           "Ride",
           81,
           33
          ],
          [
           "2020-01-30T05:20:09+00:00",
           "Ride",
           81,
           50
          ],
          [
           "2020-01-31T05:19:53+00:00",
           "Ride",
           81,
           26
          ],
          [
           "2020-02-03T05:19:59+00:00",
           "Ride",
           81,
           55
          ],
          [
           "2020-02-11T05:26:52+00:00",
           "Ride",
           81,
           63
          ],
          [
           "2020-02-13T05:19:17+00:00",
           "Ride",
           81,
           65
          ],
          [
           "2020-02-17T04:53:52+00:00",
           "Ride",
           81,
           68
          ],
          [
           "2020-02-18T05:25:37+00:00",
           "Ride",
           81,
           60
          ],
          [
           "2020-02-19T05:46:21+00:00",
           "Ride",
           81,
           52
          ],
          [
           "2020-02-20T05:25:17+00:00",
           "Ride",
           81,
           60
          ],
          [
           "2020-02-24T05:19:01+00:00",
           "Ride",
           81,
           75
          ],
          [
           "2020-02-25T05:23:04+00:00",
           "Ride",
           81,
           60
          ],
          [
           "2020-02-27T05:24:31+00:00",
           "Ride",
           81,
           80
          ],
          [
           "2020-03-05T05:18:24+00:00",
           "Ride",
           81,
           71
          ],
          [
           "2020-03-09T05:14:39+00:00",
           "Ride",
           81,
           22
          ],
          [
           "2020-03-10T05:07:21+00:00",
           "Ride",
           81,
           31
          ],
          [
           "2020-03-13T05:11:55+00:00",
           "Ride",
           81,
           55
          ],
          [
           "2020-03-17T05:23:01+00:00",
           "Ride",
           81,
           29
          ],
          [
           "2020-04-20T04:49:19+00:00",
           "Ride",
           81,
           16
          ],
          [
           "2020-04-24T04:31:00+00:00",
           "Ride",
           81,
           22
          ],
          [
           "2020-05-06T05:44:54+00:00",
           "Ride",
           81,
           14
          ],
          [
           "2020-05-13T05:49:15+00:00",
           "Ride",
           81,
           48
          ],
          [
           "2020-05-26T06:15:06+00:00",
           "Ride",
           81,
           29
          ],
          [
           "2020-05-27T05:23:06+00:00",
           "Ride",
           81,
           8
          ],
          [
           "2020-05-28T05:50:32+00:00",
           "Ride",
           81,
           71
          ],
          [
           "2020-06-02T05:33:07+00:00",
           "Ride",
           81,
           18
          ],
          [
           "2020-06-03T05:50:27+00:00",
           "Ride",
           81,
           14
          ],
          [
           "2020-06-09T05:27:58+00:00",
           "Ride",
           81,
           33
          ],
          [
           "2020-07-08T12:46:51+00:00",
           "Ride",
           81,
           9
          ],
          [
           "2020-07-11T18:19:01+00:00",
           "Ride",
           81,
           4
          ],
          [
           "2021-05-18T18:16:39+00:00",
           "Ride",
           81,
           2
          ],
          [
           "2021-07-07T17:18:37+00:00",
           "Ride",
           81,
           3
          ],
          [
           "2021-07-11T14:13:56+00:00",
           "Ride",
           81,
           81
          ],
          [
           "2021-08-12T18:32:58+00:00",
           "Ride",
           81,
           5
          ],
          [
           "2021-08-12T18:41:34+00:00",
           "Ride",
           81,
           12
          ],
          [
           "2021-08-12T18:50:27+00:00",
           "Ride",
           81,
           6
          ],
          [
           "2021-08-12T18:59:38+00:00",
           "Ride",
           81,
           9
          ],
          [
           "2022-08-09T17:29:07+00:00",
           "Ride",
           81,
           7
          ],
          [
           "2022-08-19T09:26:52+00:00",
           "Ride",
           81,
           1
          ]
         ],
         "hovertemplate": "max_heartrate=%{x}<br>elapsed_time=%{y}<br>start_date=%{customdata[0]}<br>activity_type=%{customdata[1]}<br>segment_count=%{customdata[2]}<br>rank_min=%{customdata[3]}<extra></extra>",
         "legendgroup": "",
         "marker": {
          "color": "#636efa",
          "symbol": "circle"
         },
         "mode": "markers",
         "name": "",
         "orientation": "v",
         "showlegend": false,
         "type": "scatter",
         "x": [
          125,
          124,
          120,
          130,
          139,
          144,
          133,
          123,
          125,
          137,
          130,
          137,
          127,
          129,
          123,
          138,
          124,
          131,
          131,
          142,
          133,
          117,
          128,
          115,
          125,
          123,
          147,
          134,
          135,
          128,
          123,
          138,
          140,
          146,
          130,
          141,
          126,
          151,
          141,
          129,
          149,
          153,
          129,
          128,
          128,
          155,
          136,
          149,
          135,
          133,
          120,
          128,
          129,
          128,
          141,
          140,
          130,
          137,
          140,
          142,
          117,
          127,
          129,
          124,
          148,
          120,
          113,
          135,
          139,
          141,
          149,
          157,
          167,
          151,
          161,
          165,
          170,
          170,
          169,
          null,
          170
         ],
         "xaxis": "x",
         "y": [
          167,
          164,
          179,
          175,
          177,
          186,
          177,
          195,
          175,
          192,
          204,
          172,
          190,
          189,
          179,
          189,
          184,
          183,
          191,
          176,
          183,
          181,
          193,
          198,
          187,
          210,
          187,
          189,
          210,
          229,
          201,
          202,
          203,
          206,
          206,
          188,
          199,
          199,
          215,
          198,
          199,
          202,
          183,
          195,
          178,
          199,
          201,
          202,
          203,
          200,
          196,
          200,
          208,
          200,
          240,
          205,
          177,
          181,
          199,
          180,
          172,
          177,
          170,
          193,
          180,
          159,
          205,
          173,
          170,
          183,
          164,
          151,
          136,
          150,
          287,
          153,
          165,
          155,
          164,
          156,
          134
         ],
         "yaxis": "y"
        }
       ],
       "layout": {
        "legend": {
         "tracegroupgap": 0
        },
        "margin": {
         "t": 60
        },
        "template": {
         "data": {
          "bar": [
           {
            "error_x": {
             "color": "#2a3f5f"
            },
            "error_y": {
             "color": "#2a3f5f"
            },
            "marker": {
             "line": {
              "color": "#E5ECF6",
              "width": 0.5
             },
             "pattern": {
              "fillmode": "overlay",
              "size": 10,
              "solidity": 0.2
             }
            },
            "type": "bar"
           }
          ],
          "barpolar": [
           {
            "marker": {
             "line": {
              "color": "#E5ECF6",
              "width": 0.5
             },
             "pattern": {
              "fillmode": "overlay",
              "size": 10,
              "solidity": 0.2
             }
            },
            "type": "barpolar"
           }
          ],
          "carpet": [
           {
            "aaxis": {
             "endlinecolor": "#2a3f5f",
             "gridcolor": "white",
             "linecolor": "white",
             "minorgridcolor": "white",
             "startlinecolor": "#2a3f5f"
            },
            "baxis": {
             "endlinecolor": "#2a3f5f",
             "gridcolor": "white",
             "linecolor": "white",
             "minorgridcolor": "white",
             "startlinecolor": "#2a3f5f"
            },
            "type": "carpet"
           }
          ],
          "choropleth": [
           {
            "colorbar": {
             "outlinewidth": 0,
             "ticks": ""
            },
            "type": "choropleth"
           }
          ],
          "contour": [
           {
            "colorbar": {
             "outlinewidth": 0,
             "ticks": ""
            },
            "colorscale": [
             [
              0,
              "#0d0887"
             ],
             [
              0.1111111111111111,
              "#46039f"
             ],
             [
              0.2222222222222222,
              "#7201a8"
             ],
             [
              0.3333333333333333,
              "#9c179e"
             ],
             [
              0.4444444444444444,
              "#bd3786"
             ],
             [
              0.5555555555555556,
              "#d8576b"
             ],
             [
              0.6666666666666666,
              "#ed7953"
             ],
             [
              0.7777777777777778,
              "#fb9f3a"
             ],
             [
              0.8888888888888888,
              "#fdca26"
             ],
             [
              1,
              "#f0f921"
             ]
            ],
            "type": "contour"
           }
          ],
          "contourcarpet": [
           {
            "colorbar": {
             "outlinewidth": 0,
             "ticks": ""
            },
            "type": "contourcarpet"
           }
          ],
          "heatmap": [
           {
            "colorbar": {
             "outlinewidth": 0,
             "ticks": ""
            },
            "colorscale": [
             [
              0,
              "#0d0887"
             ],
             [
              0.1111111111111111,
              "#46039f"
             ],
             [
              0.2222222222222222,
              "#7201a8"
             ],
             [
              0.3333333333333333,
              "#9c179e"
             ],
             [
              0.4444444444444444,
              "#bd3786"
             ],
             [
              0.5555555555555556,
              "#d8576b"
             ],
             [
              0.6666666666666666,
              "#ed7953"
             ],
             [
              0.7777777777777778,
              "#fb9f3a"
             ],
             [
              0.8888888888888888,
              "#fdca26"
             ],
             [
              1,
              "#f0f921"
             ]
            ],
            "type": "heatmap"
           }
          ],
          "heatmapgl": [
           {
            "colorbar": {
             "outlinewidth": 0,
             "ticks": ""
            },
            "colorscale": [
             [
              0,
              "#0d0887"
             ],
             [
              0.1111111111111111,
              "#46039f"
             ],
             [
              0.2222222222222222,
              "#7201a8"
             ],
             [
              0.3333333333333333,
              "#9c179e"
             ],
             [
              0.4444444444444444,
              "#bd3786"
             ],
             [
              0.5555555555555556,
              "#d8576b"
             ],
             [
              0.6666666666666666,
              "#ed7953"
             ],
             [
              0.7777777777777778,
              "#fb9f3a"
             ],
             [
              0.8888888888888888,
              "#fdca26"
             ],
             [
              1,
              "#f0f921"
             ]
            ],
            "type": "heatmapgl"
           }
          ],
          "histogram": [
           {
            "marker": {
             "pattern": {
              "fillmode": "overlay",
              "size": 10,
              "solidity": 0.2
             }
            },
            "type": "histogram"
           }
          ],
          "histogram2d": [
           {
            "colorbar": {
             "outlinewidth": 0,
             "ticks": ""
            },
            "colorscale": [
             [
              0,
              "#0d0887"
             ],
             [
              0.1111111111111111,
              "#46039f"
             ],
             [
              0.2222222222222222,
              "#7201a8"
             ],
             [
              0.3333333333333333,
              "#9c179e"
             ],
             [
              0.4444444444444444,
              "#bd3786"
             ],
             [
              0.5555555555555556,
              "#d8576b"
             ],
             [
              0.6666666666666666,
              "#ed7953"
             ],
             [
              0.7777777777777778,
              "#fb9f3a"
             ],
             [
              0.8888888888888888,
              "#fdca26"
             ],
             [
              1,
              "#f0f921"
             ]
            ],
            "type": "histogram2d"
           }
          ],
          "histogram2dcontour": [
           {
            "colorbar": {
             "outlinewidth": 0,
             "ticks": ""
            },
            "colorscale": [
             [
              0,
              "#0d0887"
             ],
             [
              0.1111111111111111,
              "#46039f"
             ],
             [
              0.2222222222222222,
              "#7201a8"
             ],
             [
              0.3333333333333333,
              "#9c179e"
             ],
             [
              0.4444444444444444,
              "#bd3786"
             ],
             [
              0.5555555555555556,
              "#d8576b"
             ],
             [
              0.6666666666666666,
              "#ed7953"
             ],
             [
              0.7777777777777778,
              "#fb9f3a"
             ],
             [
              0.8888888888888888,
              "#fdca26"
             ],
             [
              1,
              "#f0f921"
             ]
            ],
            "type": "histogram2dcontour"
           }
          ],
          "mesh3d": [
           {
            "colorbar": {
             "outlinewidth": 0,
             "ticks": ""
            },
            "type": "mesh3d"
           }
          ],
          "parcoords": [
           {
            "line": {
             "colorbar": {
              "outlinewidth": 0,
              "ticks": ""
             }
            },
            "type": "parcoords"
           }
          ],
          "pie": [
           {
            "automargin": true,
            "type": "pie"
           }
          ],
          "scatter": [
           {
            "fillpattern": {
             "fillmode": "overlay",
             "size": 10,
             "solidity": 0.2
            },
            "type": "scatter"
           }
          ],
          "scatter3d": [
           {
            "line": {
             "colorbar": {
              "outlinewidth": 0,
              "ticks": ""
             }
            },
            "marker": {
             "colorbar": {
              "outlinewidth": 0,
              "ticks": ""
             }
            },
            "type": "scatter3d"
           }
          ],
          "scattercarpet": [
           {
            "marker": {
             "colorbar": {
              "outlinewidth": 0,
              "ticks": ""
             }
            },
            "type": "scattercarpet"
           }
          ],
          "scattergeo": [
           {
            "marker": {
             "colorbar": {
              "outlinewidth": 0,
              "ticks": ""
             }
            },
            "type": "scattergeo"
           }
          ],
          "scattergl": [
           {
            "marker": {
             "colorbar": {
              "outlinewidth": 0,
              "ticks": ""
             }
            },
            "type": "scattergl"
           }
          ],
          "scattermapbox": [
           {
            "marker": {
             "colorbar": {
              "outlinewidth": 0,
              "ticks": ""
             }
            },
            "type": "scattermapbox"
           }
          ],
          "scatterpolar": [
           {
            "marker": {
             "colorbar": {
              "outlinewidth": 0,
              "ticks": ""
             }
            },
            "type": "scatterpolar"
           }
          ],
          "scatterpolargl": [
           {
            "marker": {
             "colorbar": {
              "outlinewidth": 0,
              "ticks": ""
             }
            },
            "type": "scatterpolargl"
           }
          ],
          "scatterternary": [
           {
            "marker": {
             "colorbar": {
              "outlinewidth": 0,
              "ticks": ""
             }
            },
            "type": "scatterternary"
           }
          ],
          "surface": [
           {
            "colorbar": {
             "outlinewidth": 0,
             "ticks": ""
            },
            "colorscale": [
             [
              0,
              "#0d0887"
             ],
             [
              0.1111111111111111,
              "#46039f"
             ],
             [
              0.2222222222222222,
              "#7201a8"
             ],
             [
              0.3333333333333333,
              "#9c179e"
             ],
             [
              0.4444444444444444,
              "#bd3786"
             ],
             [
              0.5555555555555556,
              "#d8576b"
             ],
             [
              0.6666666666666666,
              "#ed7953"
             ],
             [
              0.7777777777777778,
              "#fb9f3a"
             ],
             [
              0.8888888888888888,
              "#fdca26"
             ],
             [
              1,
              "#f0f921"
             ]
            ],
            "type": "surface"
           }
          ],
          "table": [
           {
            "cells": {
             "fill": {
              "color": "#EBF0F8"
             },
             "line": {
              "color": "white"
             }
            },
            "header": {
             "fill": {
              "color": "#C8D4E3"
             },
             "line": {
              "color": "white"
             }
            },
            "type": "table"
           }
          ]
         },
         "layout": {
          "annotationdefaults": {
           "arrowcolor": "#2a3f5f",
           "arrowhead": 0,
           "arrowwidth": 1
          },
          "autotypenumbers": "strict",
          "coloraxis": {
           "colorbar": {
            "outlinewidth": 0,
            "ticks": ""
           }
          },
          "colorscale": {
           "diverging": [
            [
             0,
             "#8e0152"
            ],
            [
             0.1,
             "#c51b7d"
            ],
            [
             0.2,
             "#de77ae"
            ],
            [
             0.3,
             "#f1b6da"
            ],
            [
             0.4,
             "#fde0ef"
            ],
            [
             0.5,
             "#f7f7f7"
            ],
            [
             0.6,
             "#e6f5d0"
            ],
            [
             0.7,
             "#b8e186"
            ],
            [
             0.8,
             "#7fbc41"
            ],
            [
             0.9,
             "#4d9221"
            ],
            [
             1,
             "#276419"
            ]
           ],
           "sequential": [
            [
             0,
             "#0d0887"
            ],
            [
             0.1111111111111111,
             "#46039f"
            ],
            [
             0.2222222222222222,
             "#7201a8"
            ],
            [
             0.3333333333333333,
             "#9c179e"
            ],
            [
             0.4444444444444444,
             "#bd3786"
            ],
            [
             0.5555555555555556,
             "#d8576b"
            ],
            [
             0.6666666666666666,
             "#ed7953"
            ],
            [
             0.7777777777777778,
             "#fb9f3a"
            ],
            [
             0.8888888888888888,
             "#fdca26"
            ],
            [
             1,
             "#f0f921"
            ]
           ],
           "sequentialminus": [
            [
             0,
             "#0d0887"
            ],
            [
             0.1111111111111111,
             "#46039f"
            ],
            [
             0.2222222222222222,
             "#7201a8"
            ],
            [
             0.3333333333333333,
             "#9c179e"
            ],
            [
             0.4444444444444444,
             "#bd3786"
            ],
            [
             0.5555555555555556,
             "#d8576b"
            ],
            [
             0.6666666666666666,
             "#ed7953"
            ],
            [
             0.7777777777777778,
             "#fb9f3a"
            ],
            [
             0.8888888888888888,
             "#fdca26"
            ],
            [
             1,
             "#f0f921"
            ]
           ]
          },
          "colorway": [
           "#636efa",
           "#EF553B",
           "#00cc96",
           "#ab63fa",
           "#FFA15A",
           "#19d3f3",
           "#FF6692",
           "#B6E880",
           "#FF97FF",
           "#FECB52"
          ],
          "font": {
           "color": "#2a3f5f"
          },
          "geo": {
           "bgcolor": "white",
           "lakecolor": "white",
           "landcolor": "#E5ECF6",
           "showlakes": true,
           "showland": true,
           "subunitcolor": "white"
          },
          "hoverlabel": {
           "align": "left"
          },
          "hovermode": "closest",
          "mapbox": {
           "style": "light"
          },
          "paper_bgcolor": "white",
          "plot_bgcolor": "#E5ECF6",
          "polar": {
           "angularaxis": {
            "gridcolor": "white",
            "linecolor": "white",
            "ticks": ""
           },
           "bgcolor": "#E5ECF6",
           "radialaxis": {
            "gridcolor": "white",
            "linecolor": "white",
            "ticks": ""
           }
          },
          "scene": {
           "xaxis": {
            "backgroundcolor": "#E5ECF6",
            "gridcolor": "white",
            "gridwidth": 2,
            "linecolor": "white",
            "showbackground": true,
            "ticks": "",
            "zerolinecolor": "white"
           },
           "yaxis": {
            "backgroundcolor": "#E5ECF6",
            "gridcolor": "white",
            "gridwidth": 2,
            "linecolor": "white",
            "showbackground": true,
            "ticks": "",
            "zerolinecolor": "white"
           },
           "zaxis": {
            "backgroundcolor": "#E5ECF6",
            "gridcolor": "white",
            "gridwidth": 2,
            "linecolor": "white",
            "showbackground": true,
            "ticks": "",
            "zerolinecolor": "white"
           }
          },
          "shapedefaults": {
           "line": {
            "color": "#2a3f5f"
           }
          },
          "ternary": {
           "aaxis": {
            "gridcolor": "white",
            "linecolor": "white",
            "ticks": ""
           },
           "baxis": {
            "gridcolor": "white",
            "linecolor": "white",
            "ticks": ""
           },
           "bgcolor": "#E5ECF6",
           "caxis": {
            "gridcolor": "white",
            "linecolor": "white",
            "ticks": ""
           }
          },
          "title": {
           "x": 0.05
          },
          "xaxis": {
           "automargin": true,
           "gridcolor": "white",
           "linecolor": "white",
           "ticks": "",
           "title": {
            "standoff": 15
           },
           "zerolinecolor": "white",
           "zerolinewidth": 2
          },
          "yaxis": {
           "automargin": true,
           "gridcolor": "white",
           "linecolor": "white",
           "ticks": "",
           "title": {
            "standoff": 15
           },
           "zerolinecolor": "white",
           "zerolinewidth": 2
          }
         }
        },
        "xaxis": {
         "anchor": "y",
         "domain": [
          0,
          1
         ],
         "title": {
          "text": "max_heartrate"
         }
        },
        "yaxis": {
         "anchor": "x",
         "domain": [
          0,
          1
         ],
         "title": {
          "text": "elapsed_time"
         }
        }
       }
      }
     },
     "metadata": {},
     "output_type": "display_data"
    }
   ],
   "source": [
    "cond = df.segment_id == 12580876\n",
    "# make a plotly scatter plot of max_heartrate and elapsed_time for the segment with id 12580876\n",
    "fig = px.scatter(df[cond], x=\"max_heartrate\", y=\"elapsed_time\", hover_data=[\"start_date\", \"activity_type\", \"segment_count\", \"rank_min\"])\n",
    "fig.show()\n"
   ]
  },
  {
   "cell_type": "code",
   "execution_count": 26,
   "metadata": {},
   "outputs": [
    {
     "data": {
      "text/html": [
       "<div>\n",
       "<style scoped>\n",
       "    .dataframe tbody tr th:only-of-type {\n",
       "        vertical-align: middle;\n",
       "    }\n",
       "\n",
       "    .dataframe tbody tr th {\n",
       "        vertical-align: top;\n",
       "    }\n",
       "\n",
       "    .dataframe thead th {\n",
       "        text-align: right;\n",
       "    }\n",
       "</style>\n",
       "<table border=\"1\" class=\"dataframe\">\n",
       "  <thead>\n",
       "    <tr style=\"text-align: right;\">\n",
       "      <th></th>\n",
       "      <th>segment_name</th>\n",
       "      <th>segment_id</th>\n",
       "      <th>pr_rank</th>\n",
       "      <th>moving_time</th>\n",
       "      <th>elapsed_time</th>\n",
       "      <th>start_date</th>\n",
       "      <th>distance</th>\n",
       "      <th>average_watts</th>\n",
       "      <th>average_heartrate</th>\n",
       "      <th>max_heartrate</th>\n",
       "      <th>average_cadence</th>\n",
       "      <th>activity_id</th>\n",
       "      <th>activity_type</th>\n",
       "      <th>rank_min</th>\n",
       "      <th>segment_count</th>\n",
       "    </tr>\n",
       "  </thead>\n",
       "  <tbody>\n",
       "    <tr>\n",
       "      <th>140</th>\n",
       "      <td>Upp till toppen av Åsbyvägen</td>\n",
       "      <td>12580876</td>\n",
       "      <td>-1000</td>\n",
       "      <td>134</td>\n",
       "      <td>134</td>\n",
       "      <td>2022-08-19 09:26:52+00:00</td>\n",
       "      <td>1163.5</td>\n",
       "      <td>468.3</td>\n",
       "      <td>160.6</td>\n",
       "      <td>170.0</td>\n",
       "      <td>-1000.0</td>\n",
       "      <td>7663443217</td>\n",
       "      <td>Ride</td>\n",
       "      <td>1.0</td>\n",
       "      <td>81</td>\n",
       "    </tr>\n",
       "    <tr>\n",
       "      <th>906</th>\n",
       "      <td>Upp till toppen av Åsbyvägen</td>\n",
       "      <td>12580876</td>\n",
       "      <td>-1000</td>\n",
       "      <td>135</td>\n",
       "      <td>136</td>\n",
       "      <td>2021-05-18 18:16:39+00:00</td>\n",
       "      <td>1163.5</td>\n",
       "      <td>285.5</td>\n",
       "      <td>158.6</td>\n",
       "      <td>167.0</td>\n",
       "      <td>-1000.0</td>\n",
       "      <td>5319516330</td>\n",
       "      <td>Ride</td>\n",
       "      <td>2.0</td>\n",
       "      <td>81</td>\n",
       "    </tr>\n",
       "    <tr>\n",
       "      <th>759</th>\n",
       "      <td>Upp till toppen av Åsbyvägen</td>\n",
       "      <td>12580876</td>\n",
       "      <td>-1000</td>\n",
       "      <td>150</td>\n",
       "      <td>150</td>\n",
       "      <td>2021-07-07 17:18:37+00:00</td>\n",
       "      <td>1163.5</td>\n",
       "      <td>395.0</td>\n",
       "      <td>144.7</td>\n",
       "      <td>151.0</td>\n",
       "      <td>-1000.0</td>\n",
       "      <td>5590919478</td>\n",
       "      <td>Ride</td>\n",
       "      <td>3.0</td>\n",
       "      <td>81</td>\n",
       "    </tr>\n",
       "    <tr>\n",
       "      <th>1041</th>\n",
       "      <td>Upp till toppen av Åsbyvägen</td>\n",
       "      <td>12580876</td>\n",
       "      <td>-1000</td>\n",
       "      <td>151</td>\n",
       "      <td>151</td>\n",
       "      <td>2020-07-11 18:19:01+00:00</td>\n",
       "      <td>1163.5</td>\n",
       "      <td>239.1</td>\n",
       "      <td>152.4</td>\n",
       "      <td>157.0</td>\n",
       "      <td>-1000.0</td>\n",
       "      <td>3747605453</td>\n",
       "      <td>Ride</td>\n",
       "      <td>4.0</td>\n",
       "      <td>81</td>\n",
       "    </tr>\n",
       "    <tr>\n",
       "      <th>652</th>\n",
       "      <td>Upp till toppen av Åsbyvägen</td>\n",
       "      <td>12580876</td>\n",
       "      <td>-1000</td>\n",
       "      <td>153</td>\n",
       "      <td>153</td>\n",
       "      <td>2021-08-12 18:32:58+00:00</td>\n",
       "      <td>1163.5</td>\n",
       "      <td>228.4</td>\n",
       "      <td>154.3</td>\n",
       "      <td>165.0</td>\n",
       "      <td>-1000.0</td>\n",
       "      <td>5782569974</td>\n",
       "      <td>Ride</td>\n",
       "      <td>5.0</td>\n",
       "      <td>81</td>\n",
       "    </tr>\n",
       "    <tr>\n",
       "      <th>...</th>\n",
       "      <td>...</td>\n",
       "      <td>...</td>\n",
       "      <td>...</td>\n",
       "      <td>...</td>\n",
       "      <td>...</td>\n",
       "      <td>...</td>\n",
       "      <td>...</td>\n",
       "      <td>...</td>\n",
       "      <td>...</td>\n",
       "      <td>...</td>\n",
       "      <td>...</td>\n",
       "      <td>...</td>\n",
       "      <td>...</td>\n",
       "      <td>...</td>\n",
       "      <td>...</td>\n",
       "    </tr>\n",
       "    <tr>\n",
       "      <th>1820</th>\n",
       "      <td>Upp till toppen av Åsbyvägen</td>\n",
       "      <td>12580876</td>\n",
       "      <td>-1000</td>\n",
       "      <td>210</td>\n",
       "      <td>210</td>\n",
       "      <td>2019-12-11 06:47:11+00:00</td>\n",
       "      <td>1163.5</td>\n",
       "      <td>222.0</td>\n",
       "      <td>115.2</td>\n",
       "      <td>123.0</td>\n",
       "      <td>-1000.0</td>\n",
       "      <td>2925495474</td>\n",
       "      <td>Ride</td>\n",
       "      <td>76.0</td>\n",
       "      <td>81</td>\n",
       "    </tr>\n",
       "    <tr>\n",
       "      <th>1672</th>\n",
       "      <td>Upp till toppen av Åsbyvägen</td>\n",
       "      <td>12580876</td>\n",
       "      <td>-1000</td>\n",
       "      <td>215</td>\n",
       "      <td>215</td>\n",
       "      <td>2020-01-20 05:16:53+00:00</td>\n",
       "      <td>1163.5</td>\n",
       "      <td>242.9</td>\n",
       "      <td>121.9</td>\n",
       "      <td>141.0</td>\n",
       "      <td>-1000.0</td>\n",
       "      <td>3027031887</td>\n",
       "      <td>Ride</td>\n",
       "      <td>78.0</td>\n",
       "      <td>81</td>\n",
       "    </tr>\n",
       "    <tr>\n",
       "      <th>1773</th>\n",
       "      <td>Upp till toppen av Åsbyvägen</td>\n",
       "      <td>12580876</td>\n",
       "      <td>-1000</td>\n",
       "      <td>229</td>\n",
       "      <td>229</td>\n",
       "      <td>2019-12-19 05:12:39+00:00</td>\n",
       "      <td>1163.5</td>\n",
       "      <td>162.7</td>\n",
       "      <td>113.4</td>\n",
       "      <td>128.0</td>\n",
       "      <td>-1000.0</td>\n",
       "      <td>2942375403</td>\n",
       "      <td>Ride</td>\n",
       "      <td>79.0</td>\n",
       "      <td>81</td>\n",
       "    </tr>\n",
       "    <tr>\n",
       "      <th>1487</th>\n",
       "      <td>Upp till toppen av Åsbyvägen</td>\n",
       "      <td>12580876</td>\n",
       "      <td>-1000</td>\n",
       "      <td>240</td>\n",
       "      <td>240</td>\n",
       "      <td>2020-02-27 05:24:31+00:00</td>\n",
       "      <td>1163.5</td>\n",
       "      <td>209.5</td>\n",
       "      <td>133.9</td>\n",
       "      <td>141.0</td>\n",
       "      <td>-1000.0</td>\n",
       "      <td>3135451887</td>\n",
       "      <td>Ride</td>\n",
       "      <td>80.0</td>\n",
       "      <td>81</td>\n",
       "    </tr>\n",
       "    <tr>\n",
       "      <th>750</th>\n",
       "      <td>Upp till toppen av Åsbyvägen</td>\n",
       "      <td>12580876</td>\n",
       "      <td>-1000</td>\n",
       "      <td>287</td>\n",
       "      <td>287</td>\n",
       "      <td>2021-07-11 14:13:56+00:00</td>\n",
       "      <td>1163.5</td>\n",
       "      <td>164.0</td>\n",
       "      <td>93.8</td>\n",
       "      <td>161.0</td>\n",
       "      <td>-1000.0</td>\n",
       "      <td>5611833214</td>\n",
       "      <td>Ride</td>\n",
       "      <td>81.0</td>\n",
       "      <td>81</td>\n",
       "    </tr>\n",
       "  </tbody>\n",
       "</table>\n",
       "<p>81 rows × 15 columns</p>\n",
       "</div>"
      ],
      "text/plain": [
       "                      segment_name  segment_id  pr_rank  moving_time  \\\n",
       "140   Upp till toppen av Åsbyvägen    12580876    -1000          134   \n",
       "906   Upp till toppen av Åsbyvägen    12580876    -1000          135   \n",
       "759   Upp till toppen av Åsbyvägen    12580876    -1000          150   \n",
       "1041  Upp till toppen av Åsbyvägen    12580876    -1000          151   \n",
       "652   Upp till toppen av Åsbyvägen    12580876    -1000          153   \n",
       "...                            ...         ...      ...          ...   \n",
       "1820  Upp till toppen av Åsbyvägen    12580876    -1000          210   \n",
       "1672  Upp till toppen av Åsbyvägen    12580876    -1000          215   \n",
       "1773  Upp till toppen av Åsbyvägen    12580876    -1000          229   \n",
       "1487  Upp till toppen av Åsbyvägen    12580876    -1000          240   \n",
       "750   Upp till toppen av Åsbyvägen    12580876    -1000          287   \n",
       "\n",
       "      elapsed_time                start_date  distance  average_watts  \\\n",
       "140            134 2022-08-19 09:26:52+00:00    1163.5          468.3   \n",
       "906            136 2021-05-18 18:16:39+00:00    1163.5          285.5   \n",
       "759            150 2021-07-07 17:18:37+00:00    1163.5          395.0   \n",
       "1041           151 2020-07-11 18:19:01+00:00    1163.5          239.1   \n",
       "652            153 2021-08-12 18:32:58+00:00    1163.5          228.4   \n",
       "...            ...                       ...       ...            ...   \n",
       "1820           210 2019-12-11 06:47:11+00:00    1163.5          222.0   \n",
       "1672           215 2020-01-20 05:16:53+00:00    1163.5          242.9   \n",
       "1773           229 2019-12-19 05:12:39+00:00    1163.5          162.7   \n",
       "1487           240 2020-02-27 05:24:31+00:00    1163.5          209.5   \n",
       "750            287 2021-07-11 14:13:56+00:00    1163.5          164.0   \n",
       "\n",
       "      average_heartrate  max_heartrate  average_cadence  activity_id  \\\n",
       "140               160.6          170.0          -1000.0   7663443217   \n",
       "906               158.6          167.0          -1000.0   5319516330   \n",
       "759               144.7          151.0          -1000.0   5590919478   \n",
       "1041              152.4          157.0          -1000.0   3747605453   \n",
       "652               154.3          165.0          -1000.0   5782569974   \n",
       "...                 ...            ...              ...          ...   \n",
       "1820              115.2          123.0          -1000.0   2925495474   \n",
       "1672              121.9          141.0          -1000.0   3027031887   \n",
       "1773              113.4          128.0          -1000.0   2942375403   \n",
       "1487              133.9          141.0          -1000.0   3135451887   \n",
       "750                93.8          161.0          -1000.0   5611833214   \n",
       "\n",
       "     activity_type  rank_min  segment_count  \n",
       "140           Ride       1.0             81  \n",
       "906           Ride       2.0             81  \n",
       "759           Ride       3.0             81  \n",
       "1041          Ride       4.0             81  \n",
       "652           Ride       5.0             81  \n",
       "...            ...       ...            ...  \n",
       "1820          Ride      76.0             81  \n",
       "1672          Ride      78.0             81  \n",
       "1773          Ride      79.0             81  \n",
       "1487          Ride      80.0             81  \n",
       "750           Ride      81.0             81  \n",
       "\n",
       "[81 rows x 15 columns]"
      ]
     },
     "execution_count": 26,
     "metadata": {},
     "output_type": "execute_result"
    }
   ],
   "source": [
    "cond = df.segment_id == 12580876\n",
    "df[cond].sort_values(\"elapsed_time\")"
   ]
  },
  {
   "cell_type": "code",
   "execution_count": 12,
   "metadata": {},
   "outputs": [
    {
     "data": {
      "text/html": [
       "<div>\n",
       "<style scoped>\n",
       "    .dataframe tbody tr th:only-of-type {\n",
       "        vertical-align: middle;\n",
       "    }\n",
       "\n",
       "    .dataframe tbody tr th {\n",
       "        vertical-align: top;\n",
       "    }\n",
       "\n",
       "    .dataframe thead th {\n",
       "        text-align: right;\n",
       "    }\n",
       "</style>\n",
       "<table border=\"1\" class=\"dataframe\">\n",
       "  <thead>\n",
       "    <tr style=\"text-align: right;\">\n",
       "      <th></th>\n",
       "      <th>segment_name</th>\n",
       "      <th>segment_id</th>\n",
       "      <th>kom_rank</th>\n",
       "      <th>pr_rank</th>\n",
       "      <th>moving_time</th>\n",
       "      <th>elapsed_time</th>\n",
       "      <th>start_date</th>\n",
       "      <th>distance</th>\n",
       "      <th>average_watts</th>\n",
       "      <th>average_heartrate</th>\n",
       "      <th>max_heartrate</th>\n",
       "      <th>average_cadence</th>\n",
       "      <th>segment_effort_id</th>\n",
       "      <th>activity_id</th>\n",
       "      <th>activity_type</th>\n",
       "    </tr>\n",
       "  </thead>\n",
       "  <tbody>\n",
       "    <tr>\n",
       "      <th>201</th>\n",
       "      <td>Ickorrbotten HÖgbottenvÄgen 7 Climb</td>\n",
       "      <td>1457954</td>\n",
       "      <td>-1000</td>\n",
       "      <td>1</td>\n",
       "      <td>397</td>\n",
       "      <td>397</td>\n",
       "      <td>2022-07-31 09:05:09+00:00</td>\n",
       "      <td>1805.56</td>\n",
       "      <td>296.0</td>\n",
       "      <td>167.3</td>\n",
       "      <td>172.0</td>\n",
       "      <td>-1000.0</td>\n",
       "      <td>2988814592622500558</td>\n",
       "      <td>7559040923</td>\n",
       "      <td>Ride</td>\n",
       "    </tr>\n",
       "    <tr>\n",
       "      <th>981</th>\n",
       "      <td>Bispberg 192 Climb</td>\n",
       "      <td>1508237</td>\n",
       "      <td>-1000</td>\n",
       "      <td>-1000</td>\n",
       "      <td>846</td>\n",
       "      <td>846</td>\n",
       "      <td>2021-04-17 11:23:16+00:00</td>\n",
       "      <td>2219.16</td>\n",
       "      <td>223.1</td>\n",
       "      <td>156.7</td>\n",
       "      <td>169.0</td>\n",
       "      <td>-1000.0</td>\n",
       "      <td>2818484774334456558</td>\n",
       "      <td>5141887547</td>\n",
       "      <td>Ride</td>\n",
       "    </tr>\n",
       "    <tr>\n",
       "      <th>80</th>\n",
       "      <td>Bispberg 192 Climb</td>\n",
       "      <td>1508237</td>\n",
       "      <td>-1000</td>\n",
       "      <td>1</td>\n",
       "      <td>673</td>\n",
       "      <td>690</td>\n",
       "      <td>2022-09-03 12:47:11+00:00</td>\n",
       "      <td>2219.16</td>\n",
       "      <td>268.1</td>\n",
       "      <td>164.1</td>\n",
       "      <td>175.0</td>\n",
       "      <td>-1000.0</td>\n",
       "      <td>3001145677534623196</td>\n",
       "      <td>7747511091</td>\n",
       "      <td>Ride</td>\n",
       "    </tr>\n",
       "    <tr>\n",
       "      <th>590</th>\n",
       "      <td>Fabianbacken</td>\n",
       "      <td>1577763</td>\n",
       "      <td>-1000</td>\n",
       "      <td>2</td>\n",
       "      <td>51</td>\n",
       "      <td>51</td>\n",
       "      <td>2021-09-04 16:06:59+00:00</td>\n",
       "      <td>264.53</td>\n",
       "      <td>301.0</td>\n",
       "      <td>142.3</td>\n",
       "      <td>147.0</td>\n",
       "      <td>-1000.0</td>\n",
       "      <td>2869280838754749016</td>\n",
       "      <td>5905298943</td>\n",
       "      <td>Ride</td>\n",
       "    </tr>\n",
       "    <tr>\n",
       "      <th>233</th>\n",
       "      <td>HagenvÄgen 75 Climb</td>\n",
       "      <td>1654948</td>\n",
       "      <td>-1000</td>\n",
       "      <td>2</td>\n",
       "      <td>523</td>\n",
       "      <td>523</td>\n",
       "      <td>2022-07-31 12:52:50+00:00</td>\n",
       "      <td>1253.29</td>\n",
       "      <td>214.8</td>\n",
       "      <td>156.8</td>\n",
       "      <td>162.0</td>\n",
       "      <td>-1000.0</td>\n",
       "      <td>2988814592619456206</td>\n",
       "      <td>7559040923</td>\n",
       "      <td>Ride</td>\n",
       "    </tr>\n",
       "  </tbody>\n",
       "</table>\n",
       "</div>"
      ],
      "text/plain": [
       "                            segment_name  segment_id  kom_rank  pr_rank  \\\n",
       "201  Ickorrbotten HÖgbottenvÄgen 7 Climb     1457954     -1000        1   \n",
       "981                   Bispberg 192 Climb     1508237     -1000    -1000   \n",
       "80                    Bispberg 192 Climb     1508237     -1000        1   \n",
       "590                         Fabianbacken     1577763     -1000        2   \n",
       "233                  HagenvÄgen 75 Climb     1654948     -1000        2   \n",
       "\n",
       "     moving_time  elapsed_time                start_date  distance  \\\n",
       "201          397           397 2022-07-31 09:05:09+00:00   1805.56   \n",
       "981          846           846 2021-04-17 11:23:16+00:00   2219.16   \n",
       "80           673           690 2022-09-03 12:47:11+00:00   2219.16   \n",
       "590           51            51 2021-09-04 16:06:59+00:00    264.53   \n",
       "233          523           523 2022-07-31 12:52:50+00:00   1253.29   \n",
       "\n",
       "     average_watts  average_heartrate  max_heartrate  average_cadence  \\\n",
       "201          296.0              167.3          172.0          -1000.0   \n",
       "981          223.1              156.7          169.0          -1000.0   \n",
       "80           268.1              164.1          175.0          -1000.0   \n",
       "590          301.0              142.3          147.0          -1000.0   \n",
       "233          214.8              156.8          162.0          -1000.0   \n",
       "\n",
       "       segment_effort_id  activity_id activity_type  \n",
       "201  2988814592622500558   7559040923          Ride  \n",
       "981  2818484774334456558   5141887547          Ride  \n",
       "80   3001145677534623196   7747511091          Ride  \n",
       "590  2869280838754749016   5905298943          Ride  \n",
       "233  2988814592619456206   7559040923          Ride  "
      ]
     },
     "execution_count": 12,
     "metadata": {},
     "output_type": "execute_result"
    }
   ],
   "source": [
    "df.head()"
   ]
  }
 ],
 "metadata": {
  "kernelspec": {
   "display_name": "Python 3.9.15 ('strava')",
   "language": "python",
   "name": "python3"
  },
  "language_info": {
   "codemirror_mode": {
    "name": "ipython",
    "version": 3
   },
   "file_extension": ".py",
   "mimetype": "text/x-python",
   "name": "python",
   "nbconvert_exporter": "python",
   "pygments_lexer": "ipython3",
   "version": "3.9.15"
  },
  "orig_nbformat": 4,
  "vscode": {
   "interpreter": {
    "hash": "cddc7d4a7b69a832d052e624f3ab4cc345a081f3afc21e7147ab1d4193317c58"
   }
  }
 },
 "nbformat": 4,
 "nbformat_minor": 2
}
